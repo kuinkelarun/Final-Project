{
  "nbformat": 4,
  "nbformat_minor": 0,
  "metadata": {
    "colab": {
      "name": "Group6_Final_Project.ipynb",
      "provenance": [],
      "collapsed_sections": [],
      "include_colab_link": true
    },
    "kernelspec": {
      "name": "python3",
      "display_name": "Python 3"
    },
    "language_info": {
      "name": "python"
    }
  },
  "cells": [
    {
      "cell_type": "markdown",
      "metadata": {
        "id": "view-in-github",
        "colab_type": "text"
      },
      "source": [
        "<a href=\"https://colab.research.google.com/github/kuinkelarun/Final-Project/blob/main/Group6_Final_Project.ipynb\" target=\"_parent\"><img src=\"https://colab.research.google.com/assets/colab-badge.svg\" alt=\"Open In Colab\"/></a>"
      ]
    },
    {
      "cell_type": "markdown",
      "source": [
        "# Project 3: Gun Death\n",
        "\n",
        "## Group Members:\n",
        "\n",
        "Arun Kuinkel\n",
        "\n",
        "Avigail Spira\n",
        "\n",
        "Cindy Juan\n",
        "\n",
        "Dean Loeafoe\n",
        "\n",
        "## **Power Point Slides**\n",
        "https://cuny-my.sharepoint.com/:p:/g/personal/arun_kuinkel75_qmail_cuny_edu/EYKLbqk9uddLpPo0dY1PDNQBA-z_Sl-Tx__cCqrn5meuHQ?rtime=H67TiWNa2kg\n",
        "\n",
        "## **Part 1 - Introduction**\n",
        "\n",
        "According to pewresearch.org, suicides account for 54% of gun related deaths in 2020. Gun ownership has been a tumultuous issue in America for decades. This problem is exacerbated by the constant disagreement between states and politicians when it comes to the issue of legal gun ownership. This has led to very loose gun ownership and acquisition laws. This in turn makes it easier for one to commit suicide by shooting themselves. Aside from improving gun legislation, it could be possible to use a predictive model to identify contributing factors that would lead one to commit suicide by shooting. We will use gun death data from 2012 to 2014 in an attempt to create such a model.\n",
        "\n",
        "This data was originally taken from the Centres for Desease Control and Prevention's \"Multiple Cause of Death database\", which is derived form death certificates from all 50 states and the District of Columbia. This data set does not include the gun related deaths of non-U.S. residents which was about 50 per year at the time.\n",
        "\n",
        "### **Research Approach**\n",
        "We will attempt to create various classification models that will either classify a gun death as a suicide or not. Once we pick the model with the best performance metrics, we will then look at the attributes that contributed the most to that model's success. This will be accomplished by creating multiple logistic models created from different features selected with varying methods, decision tree regression and an ensemble model built from the previously created logit models.\n",
        "\n",
        "### **Statement of Problem**\n",
        "Is it possible to create a classification model that accurately identify factors that contributes to one commiting suicide through shooting?"
      ],
      "metadata": {
        "id": "0cPzTHEdssQc"
      }
    },
    {
      "cell_type": "markdown",
      "source": [
        "## **Part 2 - Data Summary**\n",
        "\n",
        "The attributes provide us with the framework in which the given data is analyzed. Each attribute have some meaning, which can be used in different ways during our analysis.\n",
        "\n",
        "Following are a brief explanations of different attributes:\n",
        "\n",
        "- Year - year that the incident took place\n",
        "\n",
        "- Month\t- month in which the incident took place\n",
        "\n",
        "- Intent - intention of incident, which are  Suicide, Accidental, Homicide, Undetermined, or Unknown\n",
        "\n",
        "- Police - police shooting\n",
        "\n",
        "- Gender - gender of the victim\n",
        "\n",
        "- Age\t- Age of the victim\n",
        "\n",
        "- Race - race or ethnicity of the victim\n",
        "\n",
        "- Heritage - Hispanic between 199-996 excluding, White 01, Black 02, Asia/Pacific Islander, Native American/Native Alaskan between 4 - 78 inclusive\n",
        "\n",
        "- Place\t- location of incident\n",
        "\n",
        "- Education - educational status of the victim, which is categorized as Less than High School (HS), HS/GED, Some college, BA+"
      ],
      "metadata": {
        "id": "N3bE3yx0sBu6"
      }
    },
    {
      "cell_type": "code",
      "execution_count": null,
      "metadata": {
        "colab": {
          "base_uri": "https://localhost:8080/",
          "height": 206
        },
        "id": "gxWQFINIo2Or",
        "outputId": "8781a1d1-0254-4dce-cd1d-e495f2a7085c"
      },
      "outputs": [
        {
          "output_type": "execute_result",
          "data": {
            "text/plain": [
              "   Unnamed: 0  year  month   intent  police sex   age                    race  \\\n",
              "0           1  2012      1  Suicide       0   M  34.0  Asian/Pacific Islander   \n",
              "1           2  2012      1  Suicide       0   F  21.0                   White   \n",
              "2           3  2012      1  Suicide       0   M  60.0                   White   \n",
              "3           4  2012      2  Suicide       0   M  64.0                   White   \n",
              "4           5  2012      2  Suicide       0   M  31.0                   White   \n",
              "\n",
              "   hispanic            place     education  \n",
              "0       100             Home           BA+  \n",
              "1       100           Street  Some college  \n",
              "2       100  Other specified           BA+  \n",
              "3       100             Home           BA+  \n",
              "4       100  Other specified        HS/GED  "
            ],
            "text/html": [
              "\n",
              "  <div id=\"df-92591f53-c98a-4cde-8849-7a8a7573d819\">\n",
              "    <div class=\"colab-df-container\">\n",
              "      <div>\n",
              "<style scoped>\n",
              "    .dataframe tbody tr th:only-of-type {\n",
              "        vertical-align: middle;\n",
              "    }\n",
              "\n",
              "    .dataframe tbody tr th {\n",
              "        vertical-align: top;\n",
              "    }\n",
              "\n",
              "    .dataframe thead th {\n",
              "        text-align: right;\n",
              "    }\n",
              "</style>\n",
              "<table border=\"1\" class=\"dataframe\">\n",
              "  <thead>\n",
              "    <tr style=\"text-align: right;\">\n",
              "      <th></th>\n",
              "      <th>Unnamed: 0</th>\n",
              "      <th>year</th>\n",
              "      <th>month</th>\n",
              "      <th>intent</th>\n",
              "      <th>police</th>\n",
              "      <th>sex</th>\n",
              "      <th>age</th>\n",
              "      <th>race</th>\n",
              "      <th>hispanic</th>\n",
              "      <th>place</th>\n",
              "      <th>education</th>\n",
              "    </tr>\n",
              "  </thead>\n",
              "  <tbody>\n",
              "    <tr>\n",
              "      <th>0</th>\n",
              "      <td>1</td>\n",
              "      <td>2012</td>\n",
              "      <td>1</td>\n",
              "      <td>Suicide</td>\n",
              "      <td>0</td>\n",
              "      <td>M</td>\n",
              "      <td>34.0</td>\n",
              "      <td>Asian/Pacific Islander</td>\n",
              "      <td>100</td>\n",
              "      <td>Home</td>\n",
              "      <td>BA+</td>\n",
              "    </tr>\n",
              "    <tr>\n",
              "      <th>1</th>\n",
              "      <td>2</td>\n",
              "      <td>2012</td>\n",
              "      <td>1</td>\n",
              "      <td>Suicide</td>\n",
              "      <td>0</td>\n",
              "      <td>F</td>\n",
              "      <td>21.0</td>\n",
              "      <td>White</td>\n",
              "      <td>100</td>\n",
              "      <td>Street</td>\n",
              "      <td>Some college</td>\n",
              "    </tr>\n",
              "    <tr>\n",
              "      <th>2</th>\n",
              "      <td>3</td>\n",
              "      <td>2012</td>\n",
              "      <td>1</td>\n",
              "      <td>Suicide</td>\n",
              "      <td>0</td>\n",
              "      <td>M</td>\n",
              "      <td>60.0</td>\n",
              "      <td>White</td>\n",
              "      <td>100</td>\n",
              "      <td>Other specified</td>\n",
              "      <td>BA+</td>\n",
              "    </tr>\n",
              "    <tr>\n",
              "      <th>3</th>\n",
              "      <td>4</td>\n",
              "      <td>2012</td>\n",
              "      <td>2</td>\n",
              "      <td>Suicide</td>\n",
              "      <td>0</td>\n",
              "      <td>M</td>\n",
              "      <td>64.0</td>\n",
              "      <td>White</td>\n",
              "      <td>100</td>\n",
              "      <td>Home</td>\n",
              "      <td>BA+</td>\n",
              "    </tr>\n",
              "    <tr>\n",
              "      <th>4</th>\n",
              "      <td>5</td>\n",
              "      <td>2012</td>\n",
              "      <td>2</td>\n",
              "      <td>Suicide</td>\n",
              "      <td>0</td>\n",
              "      <td>M</td>\n",
              "      <td>31.0</td>\n",
              "      <td>White</td>\n",
              "      <td>100</td>\n",
              "      <td>Other specified</td>\n",
              "      <td>HS/GED</td>\n",
              "    </tr>\n",
              "  </tbody>\n",
              "</table>\n",
              "</div>\n",
              "      <button class=\"colab-df-convert\" onclick=\"convertToInteractive('df-92591f53-c98a-4cde-8849-7a8a7573d819')\"\n",
              "              title=\"Convert this dataframe to an interactive table.\"\n",
              "              style=\"display:none;\">\n",
              "        \n",
              "  <svg xmlns=\"http://www.w3.org/2000/svg\" height=\"24px\"viewBox=\"0 0 24 24\"\n",
              "       width=\"24px\">\n",
              "    <path d=\"M0 0h24v24H0V0z\" fill=\"none\"/>\n",
              "    <path d=\"M18.56 5.44l.94 2.06.94-2.06 2.06-.94-2.06-.94-.94-2.06-.94 2.06-2.06.94zm-11 1L8.5 8.5l.94-2.06 2.06-.94-2.06-.94L8.5 2.5l-.94 2.06-2.06.94zm10 10l.94 2.06.94-2.06 2.06-.94-2.06-.94-.94-2.06-.94 2.06-2.06.94z\"/><path d=\"M17.41 7.96l-1.37-1.37c-.4-.4-.92-.59-1.43-.59-.52 0-1.04.2-1.43.59L10.3 9.45l-7.72 7.72c-.78.78-.78 2.05 0 2.83L4 21.41c.39.39.9.59 1.41.59.51 0 1.02-.2 1.41-.59l7.78-7.78 2.81-2.81c.8-.78.8-2.07 0-2.86zM5.41 20L4 18.59l7.72-7.72 1.47 1.35L5.41 20z\"/>\n",
              "  </svg>\n",
              "      </button>\n",
              "      \n",
              "  <style>\n",
              "    .colab-df-container {\n",
              "      display:flex;\n",
              "      flex-wrap:wrap;\n",
              "      gap: 12px;\n",
              "    }\n",
              "\n",
              "    .colab-df-convert {\n",
              "      background-color: #E8F0FE;\n",
              "      border: none;\n",
              "      border-radius: 50%;\n",
              "      cursor: pointer;\n",
              "      display: none;\n",
              "      fill: #1967D2;\n",
              "      height: 32px;\n",
              "      padding: 0 0 0 0;\n",
              "      width: 32px;\n",
              "    }\n",
              "\n",
              "    .colab-df-convert:hover {\n",
              "      background-color: #E2EBFA;\n",
              "      box-shadow: 0px 1px 2px rgba(60, 64, 67, 0.3), 0px 1px 3px 1px rgba(60, 64, 67, 0.15);\n",
              "      fill: #174EA6;\n",
              "    }\n",
              "\n",
              "    [theme=dark] .colab-df-convert {\n",
              "      background-color: #3B4455;\n",
              "      fill: #D2E3FC;\n",
              "    }\n",
              "\n",
              "    [theme=dark] .colab-df-convert:hover {\n",
              "      background-color: #434B5C;\n",
              "      box-shadow: 0px 1px 3px 1px rgba(0, 0, 0, 0.15);\n",
              "      filter: drop-shadow(0px 1px 2px rgba(0, 0, 0, 0.3));\n",
              "      fill: #FFFFFF;\n",
              "    }\n",
              "  </style>\n",
              "\n",
              "      <script>\n",
              "        const buttonEl =\n",
              "          document.querySelector('#df-92591f53-c98a-4cde-8849-7a8a7573d819 button.colab-df-convert');\n",
              "        buttonEl.style.display =\n",
              "          google.colab.kernel.accessAllowed ? 'block' : 'none';\n",
              "\n",
              "        async function convertToInteractive(key) {\n",
              "          const element = document.querySelector('#df-92591f53-c98a-4cde-8849-7a8a7573d819');\n",
              "          const dataTable =\n",
              "            await google.colab.kernel.invokeFunction('convertToInteractive',\n",
              "                                                     [key], {});\n",
              "          if (!dataTable) return;\n",
              "\n",
              "          const docLinkHtml = 'Like what you see? Visit the ' +\n",
              "            '<a target=\"_blank\" href=https://colab.research.google.com/notebooks/data_table.ipynb>data table notebook</a>'\n",
              "            + ' to learn more about interactive tables.';\n",
              "          element.innerHTML = '';\n",
              "          dataTable['output_type'] = 'display_data';\n",
              "          await google.colab.output.renderOutput(dataTable, element);\n",
              "          const docLink = document.createElement('div');\n",
              "          docLink.innerHTML = docLinkHtml;\n",
              "          element.appendChild(docLink);\n",
              "        }\n",
              "      </script>\n",
              "    </div>\n",
              "  </div>\n",
              "  "
            ]
          },
          "metadata": {},
          "execution_count": 363
        }
      ],
      "source": [
        "# data is downloaded from https://raw.githubusercontent.com/fivethirtyeight/guns-data/master/full_data.csv\n",
        "\n",
        "import numpy as np\n",
        "import pandas as pd\n",
        "import statistics\n",
        "import matplotlib.pyplot as plt\n",
        "import seaborn as sns\n",
        "from sklearn import (model_selection,preprocessing)\n",
        "from patsy import dmatrices\n",
        "from sklearn.linear_model import LogisticRegression\n",
        "from sklearn import metrics\n",
        "from sklearn.model_selection import train_test_split\n",
        "from sklearn.metrics import roc_auc_score\n",
        "\n",
        "# uploading data to pandas\n",
        "df = pd.read_csv('https://raw.githubusercontent.com/fivethirtyeight/guns-data/master/full_data.csv')\n",
        "\n",
        "#prints few lines of the sample table including the header \n",
        "df.head()"
      ]
    },
    {
      "cell_type": "code",
      "source": [
        "df.tail() #Confirming all rows are in the dataframe"
      ],
      "metadata": {
        "colab": {
          "base_uri": "https://localhost:8080/",
          "height": 206
        },
        "id": "BjKP7sX8eq2G",
        "outputId": "c287c29a-9649-49e2-e952-0510400c8d92"
      },
      "execution_count": null,
      "outputs": [
        {
          "output_type": "execute_result",
          "data": {
            "text/plain": [
              "        Unnamed: 0  year  month    intent  police sex   age      race  \\\n",
              "100793      100794  2014     12  Homicide       0   M  36.0     Black   \n",
              "100794      100795  2014     12  Homicide       0   M  19.0     Black   \n",
              "100795      100796  2014     12  Homicide       0   M  20.0     Black   \n",
              "100796      100797  2014     12  Homicide       0   M  22.0  Hispanic   \n",
              "100797      100798  2014     10  Homicide       0   M  43.0     Black   \n",
              "\n",
              "        hispanic              place     education  \n",
              "100793       100               Home        HS/GED  \n",
              "100794       100             Street        HS/GED  \n",
              "100795       100             Street        HS/GED  \n",
              "100796       260             Street  Less than HS  \n",
              "100797       100  Other unspecified        HS/GED  "
            ],
            "text/html": [
              "\n",
              "  <div id=\"df-503686a3-9577-43c6-83d7-da6727d6697f\">\n",
              "    <div class=\"colab-df-container\">\n",
              "      <div>\n",
              "<style scoped>\n",
              "    .dataframe tbody tr th:only-of-type {\n",
              "        vertical-align: middle;\n",
              "    }\n",
              "\n",
              "    .dataframe tbody tr th {\n",
              "        vertical-align: top;\n",
              "    }\n",
              "\n",
              "    .dataframe thead th {\n",
              "        text-align: right;\n",
              "    }\n",
              "</style>\n",
              "<table border=\"1\" class=\"dataframe\">\n",
              "  <thead>\n",
              "    <tr style=\"text-align: right;\">\n",
              "      <th></th>\n",
              "      <th>Unnamed: 0</th>\n",
              "      <th>year</th>\n",
              "      <th>month</th>\n",
              "      <th>intent</th>\n",
              "      <th>police</th>\n",
              "      <th>sex</th>\n",
              "      <th>age</th>\n",
              "      <th>race</th>\n",
              "      <th>hispanic</th>\n",
              "      <th>place</th>\n",
              "      <th>education</th>\n",
              "    </tr>\n",
              "  </thead>\n",
              "  <tbody>\n",
              "    <tr>\n",
              "      <th>100793</th>\n",
              "      <td>100794</td>\n",
              "      <td>2014</td>\n",
              "      <td>12</td>\n",
              "      <td>Homicide</td>\n",
              "      <td>0</td>\n",
              "      <td>M</td>\n",
              "      <td>36.0</td>\n",
              "      <td>Black</td>\n",
              "      <td>100</td>\n",
              "      <td>Home</td>\n",
              "      <td>HS/GED</td>\n",
              "    </tr>\n",
              "    <tr>\n",
              "      <th>100794</th>\n",
              "      <td>100795</td>\n",
              "      <td>2014</td>\n",
              "      <td>12</td>\n",
              "      <td>Homicide</td>\n",
              "      <td>0</td>\n",
              "      <td>M</td>\n",
              "      <td>19.0</td>\n",
              "      <td>Black</td>\n",
              "      <td>100</td>\n",
              "      <td>Street</td>\n",
              "      <td>HS/GED</td>\n",
              "    </tr>\n",
              "    <tr>\n",
              "      <th>100795</th>\n",
              "      <td>100796</td>\n",
              "      <td>2014</td>\n",
              "      <td>12</td>\n",
              "      <td>Homicide</td>\n",
              "      <td>0</td>\n",
              "      <td>M</td>\n",
              "      <td>20.0</td>\n",
              "      <td>Black</td>\n",
              "      <td>100</td>\n",
              "      <td>Street</td>\n",
              "      <td>HS/GED</td>\n",
              "    </tr>\n",
              "    <tr>\n",
              "      <th>100796</th>\n",
              "      <td>100797</td>\n",
              "      <td>2014</td>\n",
              "      <td>12</td>\n",
              "      <td>Homicide</td>\n",
              "      <td>0</td>\n",
              "      <td>M</td>\n",
              "      <td>22.0</td>\n",
              "      <td>Hispanic</td>\n",
              "      <td>260</td>\n",
              "      <td>Street</td>\n",
              "      <td>Less than HS</td>\n",
              "    </tr>\n",
              "    <tr>\n",
              "      <th>100797</th>\n",
              "      <td>100798</td>\n",
              "      <td>2014</td>\n",
              "      <td>10</td>\n",
              "      <td>Homicide</td>\n",
              "      <td>0</td>\n",
              "      <td>M</td>\n",
              "      <td>43.0</td>\n",
              "      <td>Black</td>\n",
              "      <td>100</td>\n",
              "      <td>Other unspecified</td>\n",
              "      <td>HS/GED</td>\n",
              "    </tr>\n",
              "  </tbody>\n",
              "</table>\n",
              "</div>\n",
              "      <button class=\"colab-df-convert\" onclick=\"convertToInteractive('df-503686a3-9577-43c6-83d7-da6727d6697f')\"\n",
              "              title=\"Convert this dataframe to an interactive table.\"\n",
              "              style=\"display:none;\">\n",
              "        \n",
              "  <svg xmlns=\"http://www.w3.org/2000/svg\" height=\"24px\"viewBox=\"0 0 24 24\"\n",
              "       width=\"24px\">\n",
              "    <path d=\"M0 0h24v24H0V0z\" fill=\"none\"/>\n",
              "    <path d=\"M18.56 5.44l.94 2.06.94-2.06 2.06-.94-2.06-.94-.94-2.06-.94 2.06-2.06.94zm-11 1L8.5 8.5l.94-2.06 2.06-.94-2.06-.94L8.5 2.5l-.94 2.06-2.06.94zm10 10l.94 2.06.94-2.06 2.06-.94-2.06-.94-.94-2.06-.94 2.06-2.06.94z\"/><path d=\"M17.41 7.96l-1.37-1.37c-.4-.4-.92-.59-1.43-.59-.52 0-1.04.2-1.43.59L10.3 9.45l-7.72 7.72c-.78.78-.78 2.05 0 2.83L4 21.41c.39.39.9.59 1.41.59.51 0 1.02-.2 1.41-.59l7.78-7.78 2.81-2.81c.8-.78.8-2.07 0-2.86zM5.41 20L4 18.59l7.72-7.72 1.47 1.35L5.41 20z\"/>\n",
              "  </svg>\n",
              "      </button>\n",
              "      \n",
              "  <style>\n",
              "    .colab-df-container {\n",
              "      display:flex;\n",
              "      flex-wrap:wrap;\n",
              "      gap: 12px;\n",
              "    }\n",
              "\n",
              "    .colab-df-convert {\n",
              "      background-color: #E8F0FE;\n",
              "      border: none;\n",
              "      border-radius: 50%;\n",
              "      cursor: pointer;\n",
              "      display: none;\n",
              "      fill: #1967D2;\n",
              "      height: 32px;\n",
              "      padding: 0 0 0 0;\n",
              "      width: 32px;\n",
              "    }\n",
              "\n",
              "    .colab-df-convert:hover {\n",
              "      background-color: #E2EBFA;\n",
              "      box-shadow: 0px 1px 2px rgba(60, 64, 67, 0.3), 0px 1px 3px 1px rgba(60, 64, 67, 0.15);\n",
              "      fill: #174EA6;\n",
              "    }\n",
              "\n",
              "    [theme=dark] .colab-df-convert {\n",
              "      background-color: #3B4455;\n",
              "      fill: #D2E3FC;\n",
              "    }\n",
              "\n",
              "    [theme=dark] .colab-df-convert:hover {\n",
              "      background-color: #434B5C;\n",
              "      box-shadow: 0px 1px 3px 1px rgba(0, 0, 0, 0.15);\n",
              "      filter: drop-shadow(0px 1px 2px rgba(0, 0, 0, 0.3));\n",
              "      fill: #FFFFFF;\n",
              "    }\n",
              "  </style>\n",
              "\n",
              "      <script>\n",
              "        const buttonEl =\n",
              "          document.querySelector('#df-503686a3-9577-43c6-83d7-da6727d6697f button.colab-df-convert');\n",
              "        buttonEl.style.display =\n",
              "          google.colab.kernel.accessAllowed ? 'block' : 'none';\n",
              "\n",
              "        async function convertToInteractive(key) {\n",
              "          const element = document.querySelector('#df-503686a3-9577-43c6-83d7-da6727d6697f');\n",
              "          const dataTable =\n",
              "            await google.colab.kernel.invokeFunction('convertToInteractive',\n",
              "                                                     [key], {});\n",
              "          if (!dataTable) return;\n",
              "\n",
              "          const docLinkHtml = 'Like what you see? Visit the ' +\n",
              "            '<a target=\"_blank\" href=https://colab.research.google.com/notebooks/data_table.ipynb>data table notebook</a>'\n",
              "            + ' to learn more about interactive tables.';\n",
              "          element.innerHTML = '';\n",
              "          dataTable['output_type'] = 'display_data';\n",
              "          await google.colab.output.renderOutput(dataTable, element);\n",
              "          const docLink = document.createElement('div');\n",
              "          docLink.innerHTML = docLinkHtml;\n",
              "          element.appendChild(docLink);\n",
              "        }\n",
              "      </script>\n",
              "    </div>\n",
              "  </div>\n",
              "  "
            ]
          },
          "metadata": {},
          "execution_count": 365
        }
      ]
    },
    {
      "cell_type": "markdown",
      "source": [
        "#### Assigning column names\n",
        "The column names appear to be on  the first row of the data set. We are dropping the first row where the column names appear and the first column with the serial number. Also assigning column names. "
      ],
      "metadata": {
        "id": "wogmEcGLpQ7h"
      }
    },
    {
      "cell_type": "code",
      "source": [
        "# delete column 0, which appears to be a serial number \n",
        "del df['Unnamed: 0']\n",
        "\n",
        "df = df.drop(0)\n",
        "\n",
        "# assign meaningful column names on the column section\n",
        "df.columns = ['Year', 'Month', 'Intent', 'Police', 'Gender', 'Age', 'Race', 'Heritage', 'Place', 'Education']\n",
        "\n",
        "#sample output of data\n",
        "df.head()"
      ],
      "metadata": {
        "colab": {
          "base_uri": "https://localhost:8080/",
          "height": 206
        },
        "id": "AUginbNbpEMl",
        "outputId": "a330dabf-f3dc-4370-d42c-94255ebb2631"
      },
      "execution_count": null,
      "outputs": [
        {
          "output_type": "execute_result",
          "data": {
            "text/plain": [
              "   Year  Month   Intent  Police Gender   Age                            Race  \\\n",
              "1  2012      1  Suicide       0      F  21.0                           White   \n",
              "2  2012      1  Suicide       0      M  60.0                           White   \n",
              "3  2012      2  Suicide       0      M  64.0                           White   \n",
              "4  2012      2  Suicide       0      M  31.0                           White   \n",
              "5  2012      2  Suicide       0      M  17.0  Native American/Native Alaskan   \n",
              "\n",
              "   Heritage            Place     Education  \n",
              "1       100           Street  Some college  \n",
              "2       100  Other specified           BA+  \n",
              "3       100             Home           BA+  \n",
              "4       100  Other specified        HS/GED  \n",
              "5       100             Home  Less than HS  "
            ],
            "text/html": [
              "\n",
              "  <div id=\"df-9598bc7c-b9d6-4d4b-9a47-84213421cc2d\">\n",
              "    <div class=\"colab-df-container\">\n",
              "      <div>\n",
              "<style scoped>\n",
              "    .dataframe tbody tr th:only-of-type {\n",
              "        vertical-align: middle;\n",
              "    }\n",
              "\n",
              "    .dataframe tbody tr th {\n",
              "        vertical-align: top;\n",
              "    }\n",
              "\n",
              "    .dataframe thead th {\n",
              "        text-align: right;\n",
              "    }\n",
              "</style>\n",
              "<table border=\"1\" class=\"dataframe\">\n",
              "  <thead>\n",
              "    <tr style=\"text-align: right;\">\n",
              "      <th></th>\n",
              "      <th>Year</th>\n",
              "      <th>Month</th>\n",
              "      <th>Intent</th>\n",
              "      <th>Police</th>\n",
              "      <th>Gender</th>\n",
              "      <th>Age</th>\n",
              "      <th>Race</th>\n",
              "      <th>Heritage</th>\n",
              "      <th>Place</th>\n",
              "      <th>Education</th>\n",
              "    </tr>\n",
              "  </thead>\n",
              "  <tbody>\n",
              "    <tr>\n",
              "      <th>1</th>\n",
              "      <td>2012</td>\n",
              "      <td>1</td>\n",
              "      <td>Suicide</td>\n",
              "      <td>0</td>\n",
              "      <td>F</td>\n",
              "      <td>21.0</td>\n",
              "      <td>White</td>\n",
              "      <td>100</td>\n",
              "      <td>Street</td>\n",
              "      <td>Some college</td>\n",
              "    </tr>\n",
              "    <tr>\n",
              "      <th>2</th>\n",
              "      <td>2012</td>\n",
              "      <td>1</td>\n",
              "      <td>Suicide</td>\n",
              "      <td>0</td>\n",
              "      <td>M</td>\n",
              "      <td>60.0</td>\n",
              "      <td>White</td>\n",
              "      <td>100</td>\n",
              "      <td>Other specified</td>\n",
              "      <td>BA+</td>\n",
              "    </tr>\n",
              "    <tr>\n",
              "      <th>3</th>\n",
              "      <td>2012</td>\n",
              "      <td>2</td>\n",
              "      <td>Suicide</td>\n",
              "      <td>0</td>\n",
              "      <td>M</td>\n",
              "      <td>64.0</td>\n",
              "      <td>White</td>\n",
              "      <td>100</td>\n",
              "      <td>Home</td>\n",
              "      <td>BA+</td>\n",
              "    </tr>\n",
              "    <tr>\n",
              "      <th>4</th>\n",
              "      <td>2012</td>\n",
              "      <td>2</td>\n",
              "      <td>Suicide</td>\n",
              "      <td>0</td>\n",
              "      <td>M</td>\n",
              "      <td>31.0</td>\n",
              "      <td>White</td>\n",
              "      <td>100</td>\n",
              "      <td>Other specified</td>\n",
              "      <td>HS/GED</td>\n",
              "    </tr>\n",
              "    <tr>\n",
              "      <th>5</th>\n",
              "      <td>2012</td>\n",
              "      <td>2</td>\n",
              "      <td>Suicide</td>\n",
              "      <td>0</td>\n",
              "      <td>M</td>\n",
              "      <td>17.0</td>\n",
              "      <td>Native American/Native Alaskan</td>\n",
              "      <td>100</td>\n",
              "      <td>Home</td>\n",
              "      <td>Less than HS</td>\n",
              "    </tr>\n",
              "  </tbody>\n",
              "</table>\n",
              "</div>\n",
              "      <button class=\"colab-df-convert\" onclick=\"convertToInteractive('df-9598bc7c-b9d6-4d4b-9a47-84213421cc2d')\"\n",
              "              title=\"Convert this dataframe to an interactive table.\"\n",
              "              style=\"display:none;\">\n",
              "        \n",
              "  <svg xmlns=\"http://www.w3.org/2000/svg\" height=\"24px\"viewBox=\"0 0 24 24\"\n",
              "       width=\"24px\">\n",
              "    <path d=\"M0 0h24v24H0V0z\" fill=\"none\"/>\n",
              "    <path d=\"M18.56 5.44l.94 2.06.94-2.06 2.06-.94-2.06-.94-.94-2.06-.94 2.06-2.06.94zm-11 1L8.5 8.5l.94-2.06 2.06-.94-2.06-.94L8.5 2.5l-.94 2.06-2.06.94zm10 10l.94 2.06.94-2.06 2.06-.94-2.06-.94-.94-2.06-.94 2.06-2.06.94z\"/><path d=\"M17.41 7.96l-1.37-1.37c-.4-.4-.92-.59-1.43-.59-.52 0-1.04.2-1.43.59L10.3 9.45l-7.72 7.72c-.78.78-.78 2.05 0 2.83L4 21.41c.39.39.9.59 1.41.59.51 0 1.02-.2 1.41-.59l7.78-7.78 2.81-2.81c.8-.78.8-2.07 0-2.86zM5.41 20L4 18.59l7.72-7.72 1.47 1.35L5.41 20z\"/>\n",
              "  </svg>\n",
              "      </button>\n",
              "      \n",
              "  <style>\n",
              "    .colab-df-container {\n",
              "      display:flex;\n",
              "      flex-wrap:wrap;\n",
              "      gap: 12px;\n",
              "    }\n",
              "\n",
              "    .colab-df-convert {\n",
              "      background-color: #E8F0FE;\n",
              "      border: none;\n",
              "      border-radius: 50%;\n",
              "      cursor: pointer;\n",
              "      display: none;\n",
              "      fill: #1967D2;\n",
              "      height: 32px;\n",
              "      padding: 0 0 0 0;\n",
              "      width: 32px;\n",
              "    }\n",
              "\n",
              "    .colab-df-convert:hover {\n",
              "      background-color: #E2EBFA;\n",
              "      box-shadow: 0px 1px 2px rgba(60, 64, 67, 0.3), 0px 1px 3px 1px rgba(60, 64, 67, 0.15);\n",
              "      fill: #174EA6;\n",
              "    }\n",
              "\n",
              "    [theme=dark] .colab-df-convert {\n",
              "      background-color: #3B4455;\n",
              "      fill: #D2E3FC;\n",
              "    }\n",
              "\n",
              "    [theme=dark] .colab-df-convert:hover {\n",
              "      background-color: #434B5C;\n",
              "      box-shadow: 0px 1px 3px 1px rgba(0, 0, 0, 0.15);\n",
              "      filter: drop-shadow(0px 1px 2px rgba(0, 0, 0, 0.3));\n",
              "      fill: #FFFFFF;\n",
              "    }\n",
              "  </style>\n",
              "\n",
              "      <script>\n",
              "        const buttonEl =\n",
              "          document.querySelector('#df-9598bc7c-b9d6-4d4b-9a47-84213421cc2d button.colab-df-convert');\n",
              "        buttonEl.style.display =\n",
              "          google.colab.kernel.accessAllowed ? 'block' : 'none';\n",
              "\n",
              "        async function convertToInteractive(key) {\n",
              "          const element = document.querySelector('#df-9598bc7c-b9d6-4d4b-9a47-84213421cc2d');\n",
              "          const dataTable =\n",
              "            await google.colab.kernel.invokeFunction('convertToInteractive',\n",
              "                                                     [key], {});\n",
              "          if (!dataTable) return;\n",
              "\n",
              "          const docLinkHtml = 'Like what you see? Visit the ' +\n",
              "            '<a target=\"_blank\" href=https://colab.research.google.com/notebooks/data_table.ipynb>data table notebook</a>'\n",
              "            + ' to learn more about interactive tables.';\n",
              "          element.innerHTML = '';\n",
              "          dataTable['output_type'] = 'display_data';\n",
              "          await google.colab.output.renderOutput(dataTable, element);\n",
              "          const docLink = document.createElement('div');\n",
              "          docLink.innerHTML = docLinkHtml;\n",
              "          element.appendChild(docLink);\n",
              "        }\n",
              "      </script>\n",
              "    </div>\n",
              "  </div>\n",
              "  "
            ]
          },
          "metadata": {},
          "execution_count": 366
        }
      ]
    },
    {
      "cell_type": "code",
      "source": [
        "# general statistics prior to any alterations being made\n",
        "df.describe()"
      ],
      "metadata": {
        "colab": {
          "base_uri": "https://localhost:8080/",
          "height": 300
        },
        "id": "J5lX7XVKpYBR",
        "outputId": "a165d32b-4a16-46b6-e345-d7e4881a8a84"
      },
      "execution_count": null,
      "outputs": [
        {
          "output_type": "execute_result",
          "data": {
            "text/plain": [
              "                Year          Month         Police            Age  \\\n",
              "count  100797.000000  100797.000000  100797.000000  100779.000000   \n",
              "mean     2013.000367       6.567656       0.013909      43.857699   \n",
              "std         0.816276       3.405581       0.117115      19.496253   \n",
              "min      2012.000000       1.000000       0.000000       0.000000   \n",
              "25%      2012.000000       4.000000       0.000000      27.000000   \n",
              "50%      2013.000000       7.000000       0.000000      42.000000   \n",
              "75%      2014.000000       9.000000       0.000000      58.000000   \n",
              "max      2014.000000      12.000000       1.000000     107.000000   \n",
              "\n",
              "            Heritage  \n",
              "count  100797.000000  \n",
              "mean      114.179747  \n",
              "std        61.596023  \n",
              "min       100.000000  \n",
              "25%       100.000000  \n",
              "50%       100.000000  \n",
              "75%       100.000000  \n",
              "max       998.000000  "
            ],
            "text/html": [
              "\n",
              "  <div id=\"df-e0715589-9c88-4974-bbc0-aeaee169545e\">\n",
              "    <div class=\"colab-df-container\">\n",
              "      <div>\n",
              "<style scoped>\n",
              "    .dataframe tbody tr th:only-of-type {\n",
              "        vertical-align: middle;\n",
              "    }\n",
              "\n",
              "    .dataframe tbody tr th {\n",
              "        vertical-align: top;\n",
              "    }\n",
              "\n",
              "    .dataframe thead th {\n",
              "        text-align: right;\n",
              "    }\n",
              "</style>\n",
              "<table border=\"1\" class=\"dataframe\">\n",
              "  <thead>\n",
              "    <tr style=\"text-align: right;\">\n",
              "      <th></th>\n",
              "      <th>Year</th>\n",
              "      <th>Month</th>\n",
              "      <th>Police</th>\n",
              "      <th>Age</th>\n",
              "      <th>Heritage</th>\n",
              "    </tr>\n",
              "  </thead>\n",
              "  <tbody>\n",
              "    <tr>\n",
              "      <th>count</th>\n",
              "      <td>100797.000000</td>\n",
              "      <td>100797.000000</td>\n",
              "      <td>100797.000000</td>\n",
              "      <td>100779.000000</td>\n",
              "      <td>100797.000000</td>\n",
              "    </tr>\n",
              "    <tr>\n",
              "      <th>mean</th>\n",
              "      <td>2013.000367</td>\n",
              "      <td>6.567656</td>\n",
              "      <td>0.013909</td>\n",
              "      <td>43.857699</td>\n",
              "      <td>114.179747</td>\n",
              "    </tr>\n",
              "    <tr>\n",
              "      <th>std</th>\n",
              "      <td>0.816276</td>\n",
              "      <td>3.405581</td>\n",
              "      <td>0.117115</td>\n",
              "      <td>19.496253</td>\n",
              "      <td>61.596023</td>\n",
              "    </tr>\n",
              "    <tr>\n",
              "      <th>min</th>\n",
              "      <td>2012.000000</td>\n",
              "      <td>1.000000</td>\n",
              "      <td>0.000000</td>\n",
              "      <td>0.000000</td>\n",
              "      <td>100.000000</td>\n",
              "    </tr>\n",
              "    <tr>\n",
              "      <th>25%</th>\n",
              "      <td>2012.000000</td>\n",
              "      <td>4.000000</td>\n",
              "      <td>0.000000</td>\n",
              "      <td>27.000000</td>\n",
              "      <td>100.000000</td>\n",
              "    </tr>\n",
              "    <tr>\n",
              "      <th>50%</th>\n",
              "      <td>2013.000000</td>\n",
              "      <td>7.000000</td>\n",
              "      <td>0.000000</td>\n",
              "      <td>42.000000</td>\n",
              "      <td>100.000000</td>\n",
              "    </tr>\n",
              "    <tr>\n",
              "      <th>75%</th>\n",
              "      <td>2014.000000</td>\n",
              "      <td>9.000000</td>\n",
              "      <td>0.000000</td>\n",
              "      <td>58.000000</td>\n",
              "      <td>100.000000</td>\n",
              "    </tr>\n",
              "    <tr>\n",
              "      <th>max</th>\n",
              "      <td>2014.000000</td>\n",
              "      <td>12.000000</td>\n",
              "      <td>1.000000</td>\n",
              "      <td>107.000000</td>\n",
              "      <td>998.000000</td>\n",
              "    </tr>\n",
              "  </tbody>\n",
              "</table>\n",
              "</div>\n",
              "      <button class=\"colab-df-convert\" onclick=\"convertToInteractive('df-e0715589-9c88-4974-bbc0-aeaee169545e')\"\n",
              "              title=\"Convert this dataframe to an interactive table.\"\n",
              "              style=\"display:none;\">\n",
              "        \n",
              "  <svg xmlns=\"http://www.w3.org/2000/svg\" height=\"24px\"viewBox=\"0 0 24 24\"\n",
              "       width=\"24px\">\n",
              "    <path d=\"M0 0h24v24H0V0z\" fill=\"none\"/>\n",
              "    <path d=\"M18.56 5.44l.94 2.06.94-2.06 2.06-.94-2.06-.94-.94-2.06-.94 2.06-2.06.94zm-11 1L8.5 8.5l.94-2.06 2.06-.94-2.06-.94L8.5 2.5l-.94 2.06-2.06.94zm10 10l.94 2.06.94-2.06 2.06-.94-2.06-.94-.94-2.06-.94 2.06-2.06.94z\"/><path d=\"M17.41 7.96l-1.37-1.37c-.4-.4-.92-.59-1.43-.59-.52 0-1.04.2-1.43.59L10.3 9.45l-7.72 7.72c-.78.78-.78 2.05 0 2.83L4 21.41c.39.39.9.59 1.41.59.51 0 1.02-.2 1.41-.59l7.78-7.78 2.81-2.81c.8-.78.8-2.07 0-2.86zM5.41 20L4 18.59l7.72-7.72 1.47 1.35L5.41 20z\"/>\n",
              "  </svg>\n",
              "      </button>\n",
              "      \n",
              "  <style>\n",
              "    .colab-df-container {\n",
              "      display:flex;\n",
              "      flex-wrap:wrap;\n",
              "      gap: 12px;\n",
              "    }\n",
              "\n",
              "    .colab-df-convert {\n",
              "      background-color: #E8F0FE;\n",
              "      border: none;\n",
              "      border-radius: 50%;\n",
              "      cursor: pointer;\n",
              "      display: none;\n",
              "      fill: #1967D2;\n",
              "      height: 32px;\n",
              "      padding: 0 0 0 0;\n",
              "      width: 32px;\n",
              "    }\n",
              "\n",
              "    .colab-df-convert:hover {\n",
              "      background-color: #E2EBFA;\n",
              "      box-shadow: 0px 1px 2px rgba(60, 64, 67, 0.3), 0px 1px 3px 1px rgba(60, 64, 67, 0.15);\n",
              "      fill: #174EA6;\n",
              "    }\n",
              "\n",
              "    [theme=dark] .colab-df-convert {\n",
              "      background-color: #3B4455;\n",
              "      fill: #D2E3FC;\n",
              "    }\n",
              "\n",
              "    [theme=dark] .colab-df-convert:hover {\n",
              "      background-color: #434B5C;\n",
              "      box-shadow: 0px 1px 3px 1px rgba(0, 0, 0, 0.15);\n",
              "      filter: drop-shadow(0px 1px 2px rgba(0, 0, 0, 0.3));\n",
              "      fill: #FFFFFF;\n",
              "    }\n",
              "  </style>\n",
              "\n",
              "      <script>\n",
              "        const buttonEl =\n",
              "          document.querySelector('#df-e0715589-9c88-4974-bbc0-aeaee169545e button.colab-df-convert');\n",
              "        buttonEl.style.display =\n",
              "          google.colab.kernel.accessAllowed ? 'block' : 'none';\n",
              "\n",
              "        async function convertToInteractive(key) {\n",
              "          const element = document.querySelector('#df-e0715589-9c88-4974-bbc0-aeaee169545e');\n",
              "          const dataTable =\n",
              "            await google.colab.kernel.invokeFunction('convertToInteractive',\n",
              "                                                     [key], {});\n",
              "          if (!dataTable) return;\n",
              "\n",
              "          const docLinkHtml = 'Like what you see? Visit the ' +\n",
              "            '<a target=\"_blank\" href=https://colab.research.google.com/notebooks/data_table.ipynb>data table notebook</a>'\n",
              "            + ' to learn more about interactive tables.';\n",
              "          element.innerHTML = '';\n",
              "          dataTable['output_type'] = 'display_data';\n",
              "          await google.colab.output.renderOutput(dataTable, element);\n",
              "          const docLink = document.createElement('div');\n",
              "          docLink.innerHTML = docLinkHtml;\n",
              "          element.appendChild(docLink);\n",
              "        }\n",
              "      </script>\n",
              "    </div>\n",
              "  </div>\n",
              "  "
            ]
          },
          "metadata": {},
          "execution_count": 367
        }
      ]
    },
    {
      "cell_type": "markdown",
      "source": [
        "## **Part 3: Data preparation**\n",
        "In this section, we will search for and handle any values that are unexpected or do not provide information to the data set."
      ],
      "metadata": {
        "id": "9AMiu2I8imz0"
      }
    },
    {
      "cell_type": "code",
      "source": [
        "#check how many values are null in each column\n",
        "df.isnull().sum()"
      ],
      "metadata": {
        "colab": {
          "base_uri": "https://localhost:8080/"
        },
        "id": "hYi-MVt8ipLk",
        "outputId": "8a5c1ba3-ef71-4443-b4d7-1a990d26f96b"
      },
      "execution_count": null,
      "outputs": [
        {
          "output_type": "execute_result",
          "data": {
            "text/plain": [
              "Year            0\n",
              "Month           0\n",
              "Intent          1\n",
              "Police          0\n",
              "Gender          0\n",
              "Age            18\n",
              "Race            0\n",
              "Heritage        0\n",
              "Place        1384\n",
              "Education    1422\n",
              "dtype: int64"
            ]
          },
          "metadata": {},
          "execution_count": 368
        }
      ]
    },
    {
      "cell_type": "markdown",
      "source": [
        "It would appear that there are null values in 4 of the columns. We opted to drop the rows with null values since comparitively, the amount of nulls in the columns is small. 1422 out of 10797 rows is small relatively speaking. We opted to drop these rows instead of filling them with values since this is categorical data that is the result of factual records."
      ],
      "metadata": {
        "id": "dtZ3GuWvizas"
      }
    },
    {
      "cell_type": "code",
      "source": [
        "#drop the rows with Null values\n",
        "df.dropna(subset = [\"Age\"], inplace=True)\n",
        "df.dropna(subset = ['Intent'], inplace = True)\n",
        "df.dropna(subset = [\"Place\"], inplace=True)\n",
        "df.dropna(subset = ['Education'], inplace = True)\n",
        "\n",
        "#Double check to confirm all Null values are gone\n",
        "df.isnull().sum()"
      ],
      "metadata": {
        "colab": {
          "base_uri": "https://localhost:8080/"
        },
        "id": "Cmk6v4Byjsrz",
        "outputId": "bbd3c6d6-f5ba-45f6-c1dc-57d56c712f7d"
      },
      "execution_count": null,
      "outputs": [
        {
          "output_type": "execute_result",
          "data": {
            "text/plain": [
              "Year         0\n",
              "Month        0\n",
              "Intent       0\n",
              "Police       0\n",
              "Gender       0\n",
              "Age          0\n",
              "Race         0\n",
              "Heritage     0\n",
              "Place        0\n",
              "Education    0\n",
              "dtype: int64"
            ]
          },
          "metadata": {},
          "execution_count": 369
        }
      ]
    },
    {
      "cell_type": "code",
      "source": [
        "#Check how many rows remain after deletions\n",
        "df.shape"
      ],
      "metadata": {
        "colab": {
          "base_uri": "https://localhost:8080/"
        },
        "id": "ok4WOq3YRVnQ",
        "outputId": "89522dab-8ad1-4144-bec8-4f6584b879c9"
      },
      "execution_count": null,
      "outputs": [
        {
          "output_type": "execute_result",
          "data": {
            "text/plain": [
              "(98014, 10)"
            ]
          },
          "metadata": {},
          "execution_count": 370
        }
      ]
    },
    {
      "cell_type": "markdown",
      "source": [
        "In the next section of Data preparation, we will check for any other odd values that remain such as quesion marks or negative numbers in places where they should not exist."
      ],
      "metadata": {
        "id": "q6Vg6IbPkH21"
      }
    },
    {
      "cell_type": "code",
      "source": [
        "#Year\n",
        "temp =  df['Year'].unique() #Get the unique values of this column\n",
        "temp.sort() #Sort values\n",
        "temp #print"
      ],
      "metadata": {
        "colab": {
          "base_uri": "https://localhost:8080/"
        },
        "id": "8DRCD70-j5fa",
        "outputId": "c5e2112c-beb9-44e5-9282-968ef0802612"
      },
      "execution_count": null,
      "outputs": [
        {
          "output_type": "execute_result",
          "data": {
            "text/plain": [
              "array([2012, 2013, 2014])"
            ]
          },
          "metadata": {},
          "execution_count": 371
        }
      ]
    },
    {
      "cell_type": "code",
      "source": [
        "#Month\n",
        "temp =  df['Month'].unique() #Get the unique values of this column\n",
        "temp.sort() #Sort values\n",
        "temp #print"
      ],
      "metadata": {
        "colab": {
          "base_uri": "https://localhost:8080/"
        },
        "id": "Jdv9tvx8kuRj",
        "outputId": "7e498880-e800-4e51-93d4-1e202bf0543e"
      },
      "execution_count": null,
      "outputs": [
        {
          "output_type": "execute_result",
          "data": {
            "text/plain": [
              "array([ 1,  2,  3,  4,  5,  6,  7,  8,  9, 10, 11, 12])"
            ]
          },
          "metadata": {},
          "execution_count": 372
        }
      ]
    },
    {
      "cell_type": "code",
      "source": [
        "#Intent\n",
        "temp =  df['Intent'].unique() #Get the unique values of this column\n",
        "temp.sort() #Sort values\n",
        "temp #print"
      ],
      "metadata": {
        "colab": {
          "base_uri": "https://localhost:8080/"
        },
        "id": "i4MjnkpLkyXg",
        "outputId": "d3e80a12-864f-4fc4-af48-0e717d24da03"
      },
      "execution_count": null,
      "outputs": [
        {
          "output_type": "execute_result",
          "data": {
            "text/plain": [
              "array(['Accidental', 'Homicide', 'Suicide', 'Undetermined'], dtype=object)"
            ]
          },
          "metadata": {},
          "execution_count": 373
        }
      ]
    },
    {
      "cell_type": "code",
      "source": [
        "#Police\n",
        "temp =  df['Police'].unique() #Get the unique values of this column\n",
        "temp.sort() #Sort values\n",
        "temp #print"
      ],
      "metadata": {
        "colab": {
          "base_uri": "https://localhost:8080/"
        },
        "id": "e2NH4qKJk5Bo",
        "outputId": "e8c58b40-b6ed-41ce-97a2-d2efc1a811a8"
      },
      "execution_count": null,
      "outputs": [
        {
          "output_type": "execute_result",
          "data": {
            "text/plain": [
              "array([0, 1])"
            ]
          },
          "metadata": {},
          "execution_count": 374
        }
      ]
    },
    {
      "cell_type": "code",
      "source": [
        "#Gender\n",
        "temp =  df['Gender'].unique() #Get the unique values of this column\n",
        "temp.sort() #Sort values\n",
        "temp #print"
      ],
      "metadata": {
        "colab": {
          "base_uri": "https://localhost:8080/"
        },
        "id": "vA5V2q2SlAnB",
        "outputId": "2459bb12-4ccb-4a02-d823-9aec0dbc0b59"
      },
      "execution_count": null,
      "outputs": [
        {
          "output_type": "execute_result",
          "data": {
            "text/plain": [
              "array(['F', 'M'], dtype=object)"
            ]
          },
          "metadata": {},
          "execution_count": 375
        }
      ]
    },
    {
      "cell_type": "code",
      "source": [
        "#Age\n",
        "temp =  df['Age'].unique() #Get the unique values of this column\n",
        "temp.sort() #Sort values\n",
        "temp #print"
      ],
      "metadata": {
        "colab": {
          "base_uri": "https://localhost:8080/"
        },
        "id": "9BfURtcdlFlY",
        "outputId": "367fe5cb-75d0-42cf-ff8c-23be93f65b72"
      },
      "execution_count": null,
      "outputs": [
        {
          "output_type": "execute_result",
          "data": {
            "text/plain": [
              "array([  0.,   1.,   2.,   3.,   4.,   5.,   6.,   7.,   8.,   9.,  10.,\n",
              "        11.,  12.,  13.,  14.,  15.,  16.,  17.,  18.,  19.,  20.,  21.,\n",
              "        22.,  23.,  24.,  25.,  26.,  27.,  28.,  29.,  30.,  31.,  32.,\n",
              "        33.,  34.,  35.,  36.,  37.,  38.,  39.,  40.,  41.,  42.,  43.,\n",
              "        44.,  45.,  46.,  47.,  48.,  49.,  50.,  51.,  52.,  53.,  54.,\n",
              "        55.,  56.,  57.,  58.,  59.,  60.,  61.,  62.,  63.,  64.,  65.,\n",
              "        66.,  67.,  68.,  69.,  70.,  71.,  72.,  73.,  74.,  75.,  76.,\n",
              "        77.,  78.,  79.,  80.,  81.,  82.,  83.,  84.,  85.,  86.,  87.,\n",
              "        88.,  89.,  90.,  91.,  92.,  93.,  94.,  95.,  96.,  97.,  98.,\n",
              "        99., 101., 102., 107.])"
            ]
          },
          "metadata": {},
          "execution_count": 376
        }
      ]
    },
    {
      "cell_type": "code",
      "source": [
        "#Race\n",
        "temp =  df['Race'].unique() #Get the unique values of this column\n",
        "temp.sort() #Sort values\n",
        "temp #print"
      ],
      "metadata": {
        "colab": {
          "base_uri": "https://localhost:8080/"
        },
        "id": "WLnLIJFPleN3",
        "outputId": "f24f9cc8-f7a6-4c82-b395-bccc05c3d472"
      },
      "execution_count": null,
      "outputs": [
        {
          "output_type": "execute_result",
          "data": {
            "text/plain": [
              "array(['Asian/Pacific Islander', 'Black', 'Hispanic',\n",
              "       'Native American/Native Alaskan', 'White'], dtype=object)"
            ]
          },
          "metadata": {},
          "execution_count": 377
        }
      ]
    },
    {
      "cell_type": "code",
      "source": [
        "#Heritage\n",
        "temp =  df['Heritage'].unique() #Get the unique values of this column\n",
        "temp.sort() #Sort values\n",
        "temp #print"
      ],
      "metadata": {
        "colab": {
          "base_uri": "https://localhost:8080/"
        },
        "id": "oRIlJF-xlmvn",
        "outputId": "7cdaf766-c112-4662-fe36-f57b600d056f"
      },
      "execution_count": null,
      "outputs": [
        {
          "output_type": "execute_result",
          "data": {
            "text/plain": [
              "array([100, 200, 209, 210, 211, 212, 217, 218, 220, 221, 222, 223, 224,\n",
              "       225, 226, 227, 231, 232, 233, 234, 235, 237, 238, 239, 242, 250,\n",
              "       252, 260, 261, 270, 271, 275, 280, 281, 282, 286, 291, 299, 998])"
            ]
          },
          "metadata": {},
          "execution_count": 378
        }
      ]
    },
    {
      "cell_type": "markdown",
      "source": [
        "The heritage column generated a lot of unique values, all of which were not clearly explained. Since we already have race which is an adequate way of classifying individuals, we opted to drop this column. Dealing with this many ambiguous categories is messy."
      ],
      "metadata": {
        "id": "uvj2kP10mrP6"
      }
    },
    {
      "cell_type": "code",
      "source": [
        "#Drop Heritage column\n",
        "del df['Heritage']"
      ],
      "metadata": {
        "id": "95XLIuLJyTb7"
      },
      "execution_count": null,
      "outputs": []
    },
    {
      "cell_type": "code",
      "source": [
        "#Place\n",
        "temp =  df['Place'].unique() #Get the unique values of this column\n",
        "temp.sort() #Sort values\n",
        "temp #print"
      ],
      "metadata": {
        "colab": {
          "base_uri": "https://localhost:8080/"
        },
        "id": "we3gu7tAmBL3",
        "outputId": "477b25c0-138e-4f00-b619-9d3497131d3e"
      },
      "execution_count": null,
      "outputs": [
        {
          "output_type": "execute_result",
          "data": {
            "text/plain": [
              "array(['Farm', 'Home', 'Industrial/construction', 'Other specified',\n",
              "       'Other unspecified', 'Residential institution',\n",
              "       'School/instiution', 'Sports', 'Street', 'Trade/service area'],\n",
              "      dtype=object)"
            ]
          },
          "metadata": {},
          "execution_count": 380
        }
      ]
    },
    {
      "cell_type": "code",
      "source": [
        "#Education\n",
        "temp =  df['Education'].unique() #Get the unique values of this column\n",
        "temp.sort() #Sort values\n",
        "temp #print"
      ],
      "metadata": {
        "id": "MHGI--UzmHNX",
        "colab": {
          "base_uri": "https://localhost:8080/"
        },
        "outputId": "71a6b58e-a7a2-4a83-e6c5-73eb60c4151b"
      },
      "execution_count": null,
      "outputs": [
        {
          "output_type": "execute_result",
          "data": {
            "text/plain": [
              "array(['BA+', 'HS/GED', 'Less than HS', 'Some college'], dtype=object)"
            ]
          },
          "metadata": {},
          "execution_count": 381
        }
      ]
    },
    {
      "cell_type": "markdown",
      "source": [
        "### Part 4 - Data Visualization"
      ],
      "metadata": {
        "id": "SV_JveI1Xbwx"
      }
    },
    {
      "cell_type": "code",
      "source": [
        "bplt = df['Year'].value_counts().plot.bar(title = \"Graph 1: Frequency of Year Values\")"
      ],
      "metadata": {
        "colab": {
          "base_uri": "https://localhost:8080/",
          "height": 901
        },
        "id": "Xr7mmblnogkb",
        "outputId": "79e7ad4c-8f98-4bd1-ae75-75944b3b4676"
      },
      "execution_count": null,
      "outputs": [
        {
          "output_type": "display_data",
          "data": {
            "text/plain": [
              "<Figure size 1080x1080 with 1 Axes>"
            ],
            "image/png": "[encoded data removed]"
          },
          "metadata": {
            "needs_background": "light"
          }
        }
      ]
    },
    {
      "cell_type": "markdown",
      "source": [
        "There is a fairly even distribution of gun deaths throughout the 3 years covered in the data. This indicates that gun related deaths occur quite regularly in America."
      ],
      "metadata": {
        "id": "YlGFWPpINUT2"
      }
    },
    {
      "cell_type": "code",
      "source": [
        "bplt = df['Month'].value_counts().plot.bar(title = \"Graph 2: Frequency of Month Values\")"
      ],
      "metadata": {
        "colab": {
          "base_uri": "https://localhost:8080/",
          "height": 886
        },
        "id": "D7m5XZFlo4Wa",
        "outputId": "fa5967d0-2879-4fcc-ca1b-92e50ac5ab95"
      },
      "execution_count": null,
      "outputs": [
        {
          "output_type": "display_data",
          "data": {
            "text/plain": [
              "<Figure size 1080x1080 with 1 Axes>"
            ],
            "image/png": "[encoded data removed]"
          },
          "metadata": {
            "needs_background": "light"
          }
        }
      ]
    },
    {
      "cell_type": "markdown",
      "source": [
        "There appears to be a drop in gun related deaths in the last 3 and first 3 months of the year. This could partly be attributed to the holiday atmosphere that is usually observed during that time. People might be less suicidal and homocidal during these months since more time is spent with family, friends and loved ones."
      ],
      "metadata": {
        "id": "apTF_SNCpO0S"
      }
    },
    {
      "cell_type": "code",
      "source": [
        "bplt = df['Intent'].value_counts().plot.bar(title = \"Graph 3: Frequency of Intent Values\")"
      ],
      "metadata": {
        "colab": {
          "base_uri": "https://localhost:8080/",
          "height": 956
        },
        "id": "PASuHmpgK9qA",
        "outputId": "1017253b-39a3-4348-feb4-e4e5bdc91d73"
      },
      "execution_count": null,
      "outputs": [
        {
          "output_type": "display_data",
          "data": {
            "text/plain": [
              "<Figure size 1080x1080 with 1 Axes>"
            ],
            "image/png": "[encoded data removed]"
          },
          "metadata": {
            "needs_background": "light"
          }
        }
      ]
    },
    {
      "cell_type": "markdown",
      "source": [
        "This data doesn't cover the same year but it does somewhat confirm the trend that was pointed out by Pew Research. The majority of gun related deaths in America are suicides."
      ],
      "metadata": {
        "id": "Q9Dw4bkIp1H6"
      }
    },
    {
      "cell_type": "code",
      "source": [
        "bplt = df['Police'].value_counts().plot.bar(title = \"Graph 4: Frequency of Police Values\")"
      ],
      "metadata": {
        "colab": {
          "base_uri": "https://localhost:8080/",
          "height": 878
        },
        "id": "TZZujWYcqkRC",
        "outputId": "dcffe4e8-e87a-4b0a-e301-ad2566788d6f"
      },
      "execution_count": null,
      "outputs": [
        {
          "output_type": "display_data",
          "data": {
            "text/plain": [
              "<Figure size 1080x1080 with 1 Axes>"
            ],
            "image/png": "[encoded data removed]"
          },
          "metadata": {
            "needs_background": "light"
          }
        }
      ]
    },
    {
      "cell_type": "code",
      "source": [
        "df['Police'].value_counts()"
      ],
      "metadata": {
        "colab": {
          "base_uri": "https://localhost:8080/"
        },
        "id": "-B1BrDl-q96e",
        "outputId": "61b5d218-d72c-438f-c9e0-94bff73b70c6"
      },
      "execution_count": null,
      "outputs": [
        {
          "output_type": "execute_result",
          "data": {
            "text/plain": [
              "0    97995\n",
              "1       19\n",
              "Name: Police, dtype: int64"
            ]
          },
          "metadata": {},
          "execution_count": 386
        }
      ]
    },
    {
      "cell_type": "markdown",
      "source": [
        "This graph is odd. Just for clarification, the values of this graph represent the amount of gun deaths that were caused by a police officer. At a glance, it seems there are no shooting deaths caused by police officers. The scaling of the graph makes it seem like this is the case. In the cell above, we have included a value count for this graph. As it turns out, there is a small amount of shooting deaths caused by police officers. Reportedly, there have only been 19 shooting deaths caused by police officers over these 3 years. This seems oddly low. Perhaps errors have been made in the identification and classification of numerous gun related deaths."
      ],
      "metadata": {
        "id": "HyH5yaLsTLWA"
      }
    },
    {
      "cell_type": "code",
      "source": [
        "bplt = df['Gender'].value_counts().plot.bar(title = \"Graph 5: Frequency of Gender Values\")"
      ],
      "metadata": {
        "colab": {
          "base_uri": "https://localhost:8080/",
          "height": 881
        },
        "id": "09_BewncL9Zq",
        "outputId": "52395c4c-d71d-4d03-cfd3-4dac2fc53230"
      },
      "execution_count": null,
      "outputs": [
        {
          "output_type": "display_data",
          "data": {
            "text/plain": [
              "<Figure size 1080x1080 with 1 Axes>"
            ],
            "image/png": "[encoded data removed]"
          },
          "metadata": {
            "needs_background": "light"
          }
        }
      ]
    },
    {
      "cell_type": "markdown",
      "source": [
        "The vast majority of the victims of gun related deaths in America are men. This isn't too surprising since men have a higher suicide rate are are more commonly the victim of violent crimes."
      ],
      "metadata": {
        "id": "HlRWTUzItbmL"
      }
    },
    {
      "cell_type": "code",
      "source": [
        "#Normalize Age values\n",
        "df['Age'] = (df['Age'] - df['Age'].min()) / (df['Age'].max() - df['Age'].min()) \n",
        "\n",
        "#Change Age values to numeric so it can be represented on a box plot\n",
        "df['Age'] = pd.to_numeric(df['Age']) #Convert fare column from string to numeric\n",
        "plt.title('Graph 6: Box Plot of Age Values')\n",
        "df['Age'].plot(kind='box', vert=False);"
      ],
      "metadata": {
        "colab": {
          "base_uri": "https://localhost:8080/",
          "height": 883
        },
        "id": "SRLzyAETvOqP",
        "outputId": "81ecf2be-f991-4640-8dcc-a27fcc6ceebb"
      },
      "execution_count": null,
      "outputs": [
        {
          "output_type": "display_data",
          "data": {
            "text/plain": [
              "<Figure size 1080x1080 with 1 Axes>"
            ],
            "image/png": "[encoded data removed]"
          },
          "metadata": {
            "needs_background": "light"
          }
        }
      ]
    },
    {
      "cell_type": "markdown",
      "source": [
        "Surprisingly, there is only 1 outlier. That is the 107 year old victim. One would expect children of young ages and the eldery to be outliers when it comes to gun related deaths. Sadly this is not the case."
      ],
      "metadata": {
        "id": "S58v6p0jvOZ4"
      }
    },
    {
      "cell_type": "code",
      "source": [
        "bplt = df['Race'].value_counts().plot.bar(title = \"Graph 7: Frequency of Race Values\")"
      ],
      "metadata": {
        "colab": {
          "base_uri": "https://localhost:8080/",
          "height": 1000
        },
        "id": "JL5HVBGmMadr",
        "outputId": "b7d89105-014c-4e09-959f-8e96ba9c4d16"
      },
      "execution_count": null,
      "outputs": [
        {
          "output_type": "display_data",
          "data": {
            "text/plain": [
              "<Figure size 1080x1080 with 1 Axes>"
            ],
            "image/png": "[encoded data removed]"
          },
          "metadata": {
            "needs_background": "light"
          }
        }
      ]
    },
    {
      "cell_type": "markdown",
      "source": [
        "The vast majority of the victims of gun related deaths are white, followed by blacks and hispanics. This isn't too surprising since white people make up the majority of the American population at about 60%. What is peculiar about this graph is that black people are second place and hispanics are third place. One expect these 2 groups to have swapped positions since hispanics make up about 18% of the population while black people make up about 13%."
      ],
      "metadata": {
        "id": "IjEG-nDyMSGR"
      }
    },
    {
      "cell_type": "code",
      "source": [
        "bplt = df['Place'].value_counts().plot.bar(title = \"Frequency of Place\")\n",
        "bplt;"
      ],
      "metadata": {
        "colab": {
          "base_uri": "https://localhost:8080/",
          "height": 1000
        },
        "id": "WsMNyuL6NFTa",
        "outputId": "aa48853b-1fc7-48d9-8c86-b7a789e34269"
      },
      "execution_count": null,
      "outputs": [
        {
          "output_type": "display_data",
          "data": {
            "text/plain": [
              "<Figure size 1080x1080 with 1 Axes>"
            ],
            "image/png": "[encoded data removed]"
          },
          "metadata": {
            "needs_background": "light"
          }
        }
      ]
    },
    {
      "cell_type": "markdown",
      "source": [
        "The vast majority of gun related deaths takes place in the victims home. Sadly, this isn't surprising since statistically speaking, an individual is most likely to shoot a family member. Additionally, most murders are commited by a victim's family member or friend. Another explenation for this could be due to the fact that the majority of gun related deaths were suicides. It makes sense that the victim would commit suicide at home. "
      ],
      "metadata": {
        "id": "29Uw_VGwMhBk"
      }
    },
    {
      "cell_type": "code",
      "source": [
        "bplt = df['Education'].value_counts().plot.bar(title = \"Graph 9: Frequency of Education Values\")"
      ],
      "metadata": {
        "colab": {
          "base_uri": "https://localhost:8080/",
          "height": 951
        },
        "id": "X2M87sEGxLGl",
        "outputId": "d46820c6-8a2d-49bc-f037-7f8ddd0e8d26"
      },
      "execution_count": null,
      "outputs": [
        {
          "output_type": "display_data",
          "data": {
            "text/plain": [
              "<Figure size 1080x1080 with 1 Axes>"
            ],
            "image/png": "[encoded data removed]"
          },
          "metadata": {
            "needs_background": "light"
          }
        }
      ]
    },
    {
      "cell_type": "markdown",
      "source": [
        "The majority of the victims of gun related deaths have a highschool education. This is to be expected since the majority of the population has attained this level of education. As the level of education increases, the amount of gun related deaths decreases. "
      ],
      "metadata": {
        "id": "dt2RMZTtxSiP"
      }
    },
    {
      "cell_type": "code",
      "source": [
        "#We opted to change the categorical values to numeric values here to avoid the values being altered for the graphs above.\n",
        "#We had to convert the values so they can be represented in the heat map below.\n",
        "#The values of Intent, Gender, Race, Place and Education all have to be changed since they are not numeric.\n",
        "df.info()"
      ],
      "metadata": {
        "colab": {
          "base_uri": "https://localhost:8080/"
        },
        "id": "aeHu8OEXy7sb",
        "outputId": "9abce4d3-241d-4a3c-b9a3-da59db962d22"
      },
      "execution_count": null,
      "outputs": [
        {
          "output_type": "stream",
          "name": "stdout",
          "text": [
            "<class 'pandas.core.frame.DataFrame'>\n",
            "Int64Index: 98014 entries, 1 to 100797\n",
            "Data columns (total 9 columns):\n",
            " #   Column     Non-Null Count  Dtype  \n",
            "---  ------     --------------  -----  \n",
            " 0   Year       98014 non-null  int64  \n",
            " 1   Month      98014 non-null  int64  \n",
            " 2   Intent     98014 non-null  object \n",
            " 3   Police     98014 non-null  int64  \n",
            " 4   Gender     98014 non-null  object \n",
            " 5   Age        98014 non-null  float64\n",
            " 6   Race       98014 non-null  object \n",
            " 7   Place      98014 non-null  object \n",
            " 8   Education  98014 non-null  object \n",
            "dtypes: float64(1), int64(3), object(5)\n",
            "memory usage: 7.5+ MB\n"
          ]
        }
      ]
    },
    {
      "cell_type": "code",
      "source": [
        "#Data conversion\n",
        "#Since we are trying to predict suicides, all non suicide values in the Intent column will be converted to 0\n",
        "df['Intent'].replace(['Suicide', 'Homicide', 'Accidental', 'Undetermined'], [1, 0, 0, 0], inplace=True)\n",
        "df['Gender'].replace(['F', 'M'], [0, 1], inplace=True)\n",
        "df['Race'].replace(['Asian/Pacific Islander', 'Native American/Native Alaskan', 'Black', 'Hispanic', 'White'], [0, 1, 2, 3, 4], inplace=True)\n",
        "df['Place'].replace(['Farm', 'Home', 'Industrial/construction', 'Other specified',\n",
        "       'Other unspecified', 'Residential institution',\n",
        "       'School/instiution', 'Sports', 'Street', 'Trade/service area'], [0, 1, 2, 3, 4, 5, 6, 7, 8, 9], inplace=True)\n",
        "df['Education'].replace(['BA+', 'HS/GED', 'Less than HS', 'Some college'], [0, 1, 2, 3], inplace=True)"
      ],
      "metadata": {
        "id": "V2bVPhCRzlHx"
      },
      "execution_count": null,
      "outputs": []
    },
    {
      "cell_type": "code",
      "source": [
        "#Confirm proper comversion of data\n",
        "df.info()"
      ],
      "metadata": {
        "colab": {
          "base_uri": "https://localhost:8080/"
        },
        "id": "v-W4pWd63brV",
        "outputId": "16d6b7ac-c5ba-4e84-a91c-409f1655564a"
      },
      "execution_count": null,
      "outputs": [
        {
          "output_type": "stream",
          "name": "stdout",
          "text": [
            "<class 'pandas.core.frame.DataFrame'>\n",
            "Int64Index: 98014 entries, 1 to 100797\n",
            "Data columns (total 9 columns):\n",
            " #   Column     Non-Null Count  Dtype  \n",
            "---  ------     --------------  -----  \n",
            " 0   Year       98014 non-null  int64  \n",
            " 1   Month      98014 non-null  int64  \n",
            " 2   Intent     98014 non-null  int64  \n",
            " 3   Police     98014 non-null  int64  \n",
            " 4   Gender     98014 non-null  int64  \n",
            " 5   Age        98014 non-null  float64\n",
            " 6   Race       98014 non-null  int64  \n",
            " 7   Place      98014 non-null  int64  \n",
            " 8   Education  98014 non-null  int64  \n",
            "dtypes: float64(1), int64(8)\n",
            "memory usage: 7.5 MB\n"
          ]
        }
      ]
    },
    {
      "cell_type": "code",
      "source": [
        "#A look at the summary of our statistics after all alterations have been made\n",
        "df.describe()"
      ],
      "metadata": {
        "colab": {
          "base_uri": "https://localhost:8080/",
          "height": 300
        },
        "id": "G1f1OSkN3jbr",
        "outputId": "cc2ea51b-c373-4488-9103-dba9801f21af"
      },
      "execution_count": null,
      "outputs": [
        {
          "output_type": "execute_result",
          "data": {
            "text/plain": [
              "               Year         Month        Intent        Police        Gender  \\\n",
              "count  98014.000000  98014.000000  98014.000000  98014.000000  98014.000000   \n",
              "mean    2013.000571      6.567837      0.635521      0.000194      0.855327   \n",
              "std        0.816134      3.406955      0.481286      0.013922      0.351773   \n",
              "min     2012.000000      1.000000      0.000000      0.000000      0.000000   \n",
              "25%     2012.000000      4.000000      0.000000      0.000000      1.000000   \n",
              "50%     2013.000000      7.000000      1.000000      0.000000      1.000000   \n",
              "75%     2014.000000      9.000000      1.000000      0.000000      1.000000   \n",
              "max     2014.000000     12.000000      1.000000      1.000000      1.000000   \n",
              "\n",
              "                Age          Race         Place     Education  \n",
              "count  98014.000000  98014.000000  98014.000000  98014.000000  \n",
              "mean       0.410283      3.371243      2.654784      1.524721  \n",
              "std        0.182458      0.950858      2.567421      0.974403  \n",
              "min        0.000000      0.000000      0.000000      0.000000  \n",
              "25%        0.252336      2.000000      1.000000      1.000000  \n",
              "50%        0.392523      4.000000      1.000000      1.000000  \n",
              "75%        0.542056      4.000000      3.000000      2.000000  \n",
              "max        1.000000      4.000000      9.000000      3.000000  "
            ],
            "text/html": [
              "\n",
              "  <div id=\"df-4eee9916-a751-4e32-953e-cd12363e81e0\">\n",
              "    <div class=\"colab-df-container\">\n",
              "      <div>\n",
              "<style scoped>\n",
              "    .dataframe tbody tr th:only-of-type {\n",
              "        vertical-align: middle;\n",
              "    }\n",
              "\n",
              "    .dataframe tbody tr th {\n",
              "        vertical-align: top;\n",
              "    }\n",
              "\n",
              "    .dataframe thead th {\n",
              "        text-align: right;\n",
              "    }\n",
              "</style>\n",
              "<table border=\"1\" class=\"dataframe\">\n",
              "  <thead>\n",
              "    <tr style=\"text-align: right;\">\n",
              "      <th></th>\n",
              "      <th>Year</th>\n",
              "      <th>Month</th>\n",
              "      <th>Intent</th>\n",
              "      <th>Police</th>\n",
              "      <th>Gender</th>\n",
              "      <th>Age</th>\n",
              "      <th>Race</th>\n",
              "      <th>Place</th>\n",
              "      <th>Education</th>\n",
              "    </tr>\n",
              "  </thead>\n",
              "  <tbody>\n",
              "    <tr>\n",
              "      <th>count</th>\n",
              "      <td>98014.000000</td>\n",
              "      <td>98014.000000</td>\n",
              "      <td>98014.000000</td>\n",
              "      <td>98014.000000</td>\n",
              "      <td>98014.000000</td>\n",
              "      <td>98014.000000</td>\n",
              "      <td>98014.000000</td>\n",
              "      <td>98014.000000</td>\n",
              "      <td>98014.000000</td>\n",
              "    </tr>\n",
              "    <tr>\n",
              "      <th>mean</th>\n",
              "      <td>2013.000571</td>\n",
              "      <td>6.567837</td>\n",
              "      <td>0.635521</td>\n",
              "      <td>0.000194</td>\n",
              "      <td>0.855327</td>\n",
              "      <td>0.410283</td>\n",
              "      <td>3.371243</td>\n",
              "      <td>2.654784</td>\n",
              "      <td>1.524721</td>\n",
              "    </tr>\n",
              "    <tr>\n",
              "      <th>std</th>\n",
              "      <td>0.816134</td>\n",
              "      <td>3.406955</td>\n",
              "      <td>0.481286</td>\n",
              "      <td>0.013922</td>\n",
              "      <td>0.351773</td>\n",
              "      <td>0.182458</td>\n",
              "      <td>0.950858</td>\n",
              "      <td>2.567421</td>\n",
              "      <td>0.974403</td>\n",
              "    </tr>\n",
              "    <tr>\n",
              "      <th>min</th>\n",
              "      <td>2012.000000</td>\n",
              "      <td>1.000000</td>\n",
              "      <td>0.000000</td>\n",
              "      <td>0.000000</td>\n",
              "      <td>0.000000</td>\n",
              "      <td>0.000000</td>\n",
              "      <td>0.000000</td>\n",
              "      <td>0.000000</td>\n",
              "      <td>0.000000</td>\n",
              "    </tr>\n",
              "    <tr>\n",
              "      <th>25%</th>\n",
              "      <td>2012.000000</td>\n",
              "      <td>4.000000</td>\n",
              "      <td>0.000000</td>\n",
              "      <td>0.000000</td>\n",
              "      <td>1.000000</td>\n",
              "      <td>0.252336</td>\n",
              "      <td>2.000000</td>\n",
              "      <td>1.000000</td>\n",
              "      <td>1.000000</td>\n",
              "    </tr>\n",
              "    <tr>\n",
              "      <th>50%</th>\n",
              "      <td>2013.000000</td>\n",
              "      <td>7.000000</td>\n",
              "      <td>1.000000</td>\n",
              "      <td>0.000000</td>\n",
              "      <td>1.000000</td>\n",
              "      <td>0.392523</td>\n",
              "      <td>4.000000</td>\n",
              "      <td>1.000000</td>\n",
              "      <td>1.000000</td>\n",
              "    </tr>\n",
              "    <tr>\n",
              "      <th>75%</th>\n",
              "      <td>2014.000000</td>\n",
              "      <td>9.000000</td>\n",
              "      <td>1.000000</td>\n",
              "      <td>0.000000</td>\n",
              "      <td>1.000000</td>\n",
              "      <td>0.542056</td>\n",
              "      <td>4.000000</td>\n",
              "      <td>3.000000</td>\n",
              "      <td>2.000000</td>\n",
              "    </tr>\n",
              "    <tr>\n",
              "      <th>max</th>\n",
              "      <td>2014.000000</td>\n",
              "      <td>12.000000</td>\n",
              "      <td>1.000000</td>\n",
              "      <td>1.000000</td>\n",
              "      <td>1.000000</td>\n",
              "      <td>1.000000</td>\n",
              "      <td>4.000000</td>\n",
              "      <td>9.000000</td>\n",
              "      <td>3.000000</td>\n",
              "    </tr>\n",
              "  </tbody>\n",
              "</table>\n",
              "</div>\n",
              "      <button class=\"colab-df-convert\" onclick=\"convertToInteractive('df-4eee9916-a751-4e32-953e-cd12363e81e0')\"\n",
              "              title=\"Convert this dataframe to an interactive table.\"\n",
              "              style=\"display:none;\">\n",
              "        \n",
              "  <svg xmlns=\"http://www.w3.org/2000/svg\" height=\"24px\"viewBox=\"0 0 24 24\"\n",
              "       width=\"24px\">\n",
              "    <path d=\"M0 0h24v24H0V0z\" fill=\"none\"/>\n",
              "    <path d=\"M18.56 5.44l.94 2.06.94-2.06 2.06-.94-2.06-.94-.94-2.06-.94 2.06-2.06.94zm-11 1L8.5 8.5l.94-2.06 2.06-.94-2.06-.94L8.5 2.5l-.94 2.06-2.06.94zm10 10l.94 2.06.94-2.06 2.06-.94-2.06-.94-.94-2.06-.94 2.06-2.06.94z\"/><path d=\"M17.41 7.96l-1.37-1.37c-.4-.4-.92-.59-1.43-.59-.52 0-1.04.2-1.43.59L10.3 9.45l-7.72 7.72c-.78.78-.78 2.05 0 2.83L4 21.41c.39.39.9.59 1.41.59.51 0 1.02-.2 1.41-.59l7.78-7.78 2.81-2.81c.8-.78.8-2.07 0-2.86zM5.41 20L4 18.59l7.72-7.72 1.47 1.35L5.41 20z\"/>\n",
              "  </svg>\n",
              "      </button>\n",
              "      \n",
              "  <style>\n",
              "    .colab-df-container {\n",
              "      display:flex;\n",
              "      flex-wrap:wrap;\n",
              "      gap: 12px;\n",
              "    }\n",
              "\n",
              "    .colab-df-convert {\n",
              "      background-color: #E8F0FE;\n",
              "      border: none;\n",
              "      border-radius: 50%;\n",
              "      cursor: pointer;\n",
              "      display: none;\n",
              "      fill: #1967D2;\n",
              "      height: 32px;\n",
              "      padding: 0 0 0 0;\n",
              "      width: 32px;\n",
              "    }\n",
              "\n",
              "    .colab-df-convert:hover {\n",
              "      background-color: #E2EBFA;\n",
              "      box-shadow: 0px 1px 2px rgba(60, 64, 67, 0.3), 0px 1px 3px 1px rgba(60, 64, 67, 0.15);\n",
              "      fill: #174EA6;\n",
              "    }\n",
              "\n",
              "    [theme=dark] .colab-df-convert {\n",
              "      background-color: #3B4455;\n",
              "      fill: #D2E3FC;\n",
              "    }\n",
              "\n",
              "    [theme=dark] .colab-df-convert:hover {\n",
              "      background-color: #434B5C;\n",
              "      box-shadow: 0px 1px 3px 1px rgba(0, 0, 0, 0.15);\n",
              "      filter: drop-shadow(0px 1px 2px rgba(0, 0, 0, 0.3));\n",
              "      fill: #FFFFFF;\n",
              "    }\n",
              "  </style>\n",
              "\n",
              "      <script>\n",
              "        const buttonEl =\n",
              "          document.querySelector('#df-4eee9916-a751-4e32-953e-cd12363e81e0 button.colab-df-convert');\n",
              "        buttonEl.style.display =\n",
              "          google.colab.kernel.accessAllowed ? 'block' : 'none';\n",
              "\n",
              "        async function convertToInteractive(key) {\n",
              "          const element = document.querySelector('#df-4eee9916-a751-4e32-953e-cd12363e81e0');\n",
              "          const dataTable =\n",
              "            await google.colab.kernel.invokeFunction('convertToInteractive',\n",
              "                                                     [key], {});\n",
              "          if (!dataTable) return;\n",
              "\n",
              "          const docLinkHtml = 'Like what you see? Visit the ' +\n",
              "            '<a target=\"_blank\" href=https://colab.research.google.com/notebooks/data_table.ipynb>data table notebook</a>'\n",
              "            + ' to learn more about interactive tables.';\n",
              "          element.innerHTML = '';\n",
              "          dataTable['output_type'] = 'display_data';\n",
              "          await google.colab.output.renderOutput(dataTable, element);\n",
              "          const docLink = document.createElement('div');\n",
              "          docLink.innerHTML = docLinkHtml;\n",
              "          element.appendChild(docLink);\n",
              "        }\n",
              "      </script>\n",
              "    </div>\n",
              "  </div>\n",
              "  "
            ]
          },
          "metadata": {},
          "execution_count": 395
        }
      ]
    },
    {
      "cell_type": "code",
      "source": [
        "#Isolate and display the mean values of each attribute\n",
        "df.groupby('Intent').mean()"
      ],
      "metadata": {
        "colab": {
          "base_uri": "https://localhost:8080/",
          "height": 143
        },
        "id": "lNYz5RQlYL9l",
        "outputId": "cbd79ab7-64cb-4fe0-f94c-41402dc8b2b7"
      },
      "execution_count": null,
      "outputs": [
        {
          "output_type": "execute_result",
          "data": {
            "text/plain": [
              "               Year     Month    Police    Gender       Age      Race  \\\n",
              "Intent                                                                  \n",
              "0       2012.982533  6.692420  0.000532  0.843215  0.307492  2.673049   \n",
              "1       2013.010917  6.496388  0.000000  0.862273  0.469235  3.771665   \n",
              "\n",
              "           Place  Education  \n",
              "Intent                       \n",
              "0       3.836105   1.622019  \n",
              "1       1.977284   1.468920  "
            ],
            "text/html": [
              "\n",
              "  <div id=\"df-9918b267-8373-4b0b-a4e2-bd89ab6b6dce\">\n",
              "    <div class=\"colab-df-container\">\n",
              "      <div>\n",
              "<style scoped>\n",
              "    .dataframe tbody tr th:only-of-type {\n",
              "        vertical-align: middle;\n",
              "    }\n",
              "\n",
              "    .dataframe tbody tr th {\n",
              "        vertical-align: top;\n",
              "    }\n",
              "\n",
              "    .dataframe thead th {\n",
              "        text-align: right;\n",
              "    }\n",
              "</style>\n",
              "<table border=\"1\" class=\"dataframe\">\n",
              "  <thead>\n",
              "    <tr style=\"text-align: right;\">\n",
              "      <th></th>\n",
              "      <th>Year</th>\n",
              "      <th>Month</th>\n",
              "      <th>Police</th>\n",
              "      <th>Gender</th>\n",
              "      <th>Age</th>\n",
              "      <th>Race</th>\n",
              "      <th>Place</th>\n",
              "      <th>Education</th>\n",
              "    </tr>\n",
              "    <tr>\n",
              "      <th>Intent</th>\n",
              "      <th></th>\n",
              "      <th></th>\n",
              "      <th></th>\n",
              "      <th></th>\n",
              "      <th></th>\n",
              "      <th></th>\n",
              "      <th></th>\n",
              "      <th></th>\n",
              "    </tr>\n",
              "  </thead>\n",
              "  <tbody>\n",
              "    <tr>\n",
              "      <th>0</th>\n",
              "      <td>2012.982533</td>\n",
              "      <td>6.692420</td>\n",
              "      <td>0.000532</td>\n",
              "      <td>0.843215</td>\n",
              "      <td>0.307492</td>\n",
              "      <td>2.673049</td>\n",
              "      <td>3.836105</td>\n",
              "      <td>1.622019</td>\n",
              "    </tr>\n",
              "    <tr>\n",
              "      <th>1</th>\n",
              "      <td>2013.010917</td>\n",
              "      <td>6.496388</td>\n",
              "      <td>0.000000</td>\n",
              "      <td>0.862273</td>\n",
              "      <td>0.469235</td>\n",
              "      <td>3.771665</td>\n",
              "      <td>1.977284</td>\n",
              "      <td>1.468920</td>\n",
              "    </tr>\n",
              "  </tbody>\n",
              "</table>\n",
              "</div>\n",
              "      <button class=\"colab-df-convert\" onclick=\"convertToInteractive('df-9918b267-8373-4b0b-a4e2-bd89ab6b6dce')\"\n",
              "              title=\"Convert this dataframe to an interactive table.\"\n",
              "              style=\"display:none;\">\n",
              "        \n",
              "  <svg xmlns=\"http://www.w3.org/2000/svg\" height=\"24px\"viewBox=\"0 0 24 24\"\n",
              "       width=\"24px\">\n",
              "    <path d=\"M0 0h24v24H0V0z\" fill=\"none\"/>\n",
              "    <path d=\"M18.56 5.44l.94 2.06.94-2.06 2.06-.94-2.06-.94-.94-2.06-.94 2.06-2.06.94zm-11 1L8.5 8.5l.94-2.06 2.06-.94-2.06-.94L8.5 2.5l-.94 2.06-2.06.94zm10 10l.94 2.06.94-2.06 2.06-.94-2.06-.94-.94-2.06-.94 2.06-2.06.94z\"/><path d=\"M17.41 7.96l-1.37-1.37c-.4-.4-.92-.59-1.43-.59-.52 0-1.04.2-1.43.59L10.3 9.45l-7.72 7.72c-.78.78-.78 2.05 0 2.83L4 21.41c.39.39.9.59 1.41.59.51 0 1.02-.2 1.41-.59l7.78-7.78 2.81-2.81c.8-.78.8-2.07 0-2.86zM5.41 20L4 18.59l7.72-7.72 1.47 1.35L5.41 20z\"/>\n",
              "  </svg>\n",
              "      </button>\n",
              "      \n",
              "  <style>\n",
              "    .colab-df-container {\n",
              "      display:flex;\n",
              "      flex-wrap:wrap;\n",
              "      gap: 12px;\n",
              "    }\n",
              "\n",
              "    .colab-df-convert {\n",
              "      background-color: #E8F0FE;\n",
              "      border: none;\n",
              "      border-radius: 50%;\n",
              "      cursor: pointer;\n",
              "      display: none;\n",
              "      fill: #1967D2;\n",
              "      height: 32px;\n",
              "      padding: 0 0 0 0;\n",
              "      width: 32px;\n",
              "    }\n",
              "\n",
              "    .colab-df-convert:hover {\n",
              "      background-color: #E2EBFA;\n",
              "      box-shadow: 0px 1px 2px rgba(60, 64, 67, 0.3), 0px 1px 3px 1px rgba(60, 64, 67, 0.15);\n",
              "      fill: #174EA6;\n",
              "    }\n",
              "\n",
              "    [theme=dark] .colab-df-convert {\n",
              "      background-color: #3B4455;\n",
              "      fill: #D2E3FC;\n",
              "    }\n",
              "\n",
              "    [theme=dark] .colab-df-convert:hover {\n",
              "      background-color: #434B5C;\n",
              "      box-shadow: 0px 1px 3px 1px rgba(0, 0, 0, 0.15);\n",
              "      filter: drop-shadow(0px 1px 2px rgba(0, 0, 0, 0.3));\n",
              "      fill: #FFFFFF;\n",
              "    }\n",
              "  </style>\n",
              "\n",
              "      <script>\n",
              "        const buttonEl =\n",
              "          document.querySelector('#df-9918b267-8373-4b0b-a4e2-bd89ab6b6dce button.colab-df-convert');\n",
              "        buttonEl.style.display =\n",
              "          google.colab.kernel.accessAllowed ? 'block' : 'none';\n",
              "\n",
              "        async function convertToInteractive(key) {\n",
              "          const element = document.querySelector('#df-9918b267-8373-4b0b-a4e2-bd89ab6b6dce');\n",
              "          const dataTable =\n",
              "            await google.colab.kernel.invokeFunction('convertToInteractive',\n",
              "                                                     [key], {});\n",
              "          if (!dataTable) return;\n",
              "\n",
              "          const docLinkHtml = 'Like what you see? Visit the ' +\n",
              "            '<a target=\"_blank\" href=https://colab.research.google.com/notebooks/data_table.ipynb>data table notebook</a>'\n",
              "            + ' to learn more about interactive tables.';\n",
              "          element.innerHTML = '';\n",
              "          dataTable['output_type'] = 'display_data';\n",
              "          await google.colab.output.renderOutput(dataTable, element);\n",
              "          const docLink = document.createElement('div');\n",
              "          docLink.innerHTML = docLinkHtml;\n",
              "          element.appendChild(docLink);\n",
              "        }\n",
              "      </script>\n",
              "    </div>\n",
              "  </div>\n",
              "  "
            ]
          },
          "metadata": {},
          "execution_count": 396
        }
      ]
    },
    {
      "cell_type": "code",
      "source": [
        "#Graphical and Numerical representaion of correlation between attributes\n",
        "corr = df.corr()\n",
        "plt.rcParams.update({'font.size': 12,'figure.figsize':(15,15)})\n",
        "sns.heatmap(data=corr, square=True , annot=True, cbar=True)"
      ],
      "metadata": {
        "colab": {
          "base_uri": "https://localhost:8080/",
          "height": 868
        },
        "id": "NZWGpVXxxxld",
        "outputId": "b73dc859-9558-4c30-d9a4-b7bb5d9be7d5"
      },
      "execution_count": null,
      "outputs": [
        {
          "output_type": "execute_result",
          "data": {
            "text/plain": [
              "<matplotlib.axes._subplots.AxesSubplot at 0x7fc720bbdc10>"
            ]
          },
          "metadata": {},
          "execution_count": 397
        },
        {
          "output_type": "display_data",
          "data": {
            "text/plain": [
              "<Figure size 1080x1080 with 2 Axes>"
            ],
            "image/png": "[encoded data removed]"
          },
          "metadata": {
            "needs_background": "light"
          }
        }
      ]
    },
    {
      "cell_type": "markdown",
      "source": [
        "## **Preliminary Conclusion**\n",
        "As we can see from the heat map, there aren't too many attributes that are correlated so we can expect most of the attributes will contribute unique data to our models. Age and Race are highly correlated with Intent. This is expected since cetrain demographics are more likely to be involved in gun culture, exposure and violence. Age and race share a decent level of correlation with each other as well. These correlations are to be expected because the graphs, if taken together, point to certain demographic groups that serves as the majority of gun related deaths. That would be black and white men of most ages. We can expect that either age or race will not show up as a selected attribute during feature selection since they contribute similar data to any created model.\n",
        "\n",
        "One odd observation is the negative correlation between Intent and Place. One would expect a higher amount of correlation between these 2 attributes since we know the majority of gun related deaths takes place in the victim's home. We don't expect year to come up as a selected feature since gun violence happens regularly throughout the doccumented 3 years. Police is also not likely to come up as a selected feature since such a small number of victims in the data were actually shot by police. Education is the last of the attributes that are not expected to show up during feature selection because the distribution of victims in this category seem to align with the distribution of education in America.\n",
        "\n",
        "There was 1 correlation value that defied expectations. This was the Place attribute. Place did not correlate with Age, Race or Gender. Certain demographic groups tend to congregate in different places in society. This is a real world link between location, age, race and gender. Surprisingly, the heat map disagrees.\n",
        "\n",
        "## **Part 5a: K-Best Feature Selection**\n",
        "In the next section, we will use K-best and a Chi Squared test to select features for 2 different models."
      ],
      "metadata": {
        "id": "MVhTh1R6IJ9w"
      }
    },
    {
      "cell_type": "code",
      "source": [
        "#K-Best feature selection\n",
        "from sklearn.feature_selection import SelectKBest\n",
        "from sklearn.feature_selection import f_regression\n",
        "\n",
        "target = df['Intent']\n",
        "features = df.drop('Intent',axis=1).copy()\n",
        "feature_names = list(features.columns)\n",
        "\n",
        "selection_kBest = SelectKBest(f_regression,k = 5).fit(features,target)\n",
        "\n",
        "#find which columns were chosen\n",
        "features_kbest = selection_kBest.get_support()\n",
        "print(\"Overall features: \", df.columns,'\\n')\n",
        "print(\"Chosen features: \", features.columns[features_kbest],'\\n')\n",
        "\n",
        "selection_kBest.scores_"
      ],
      "metadata": {
        "colab": {
          "base_uri": "https://localhost:8080/"
        },
        "id": "A7fpUQznXM_-",
        "outputId": "423ab88a-8387-46a5-c623-36dbdee181c8"
      },
      "execution_count": null,
      "outputs": [
        {
          "output_type": "stream",
          "name": "stdout",
          "text": [
            "Overall features:  Index(['Year', 'Month', 'Intent', 'Police', 'Gender', 'Age', 'Race', 'Place',\n",
            "       'Education'],\n",
            "      dtype='object') \n",
            "\n",
            "Chosen features:  Index(['Month', 'Age', 'Race', 'Place', 'Education'], dtype='object') \n",
            "\n"
          ]
        },
        {
          "output_type": "execute_result",
          "data": {
            "text/plain": [
              "array([2.74681698e+01, 7.52210342e+01, 3.31462218e+01, 6.66865547e+01,\n",
              "       2.18110892e+04, 4.38739025e+04, 1.35451942e+04, 5.63696113e+02])"
            ]
          },
          "metadata": {},
          "execution_count": 398
        }
      ]
    },
    {
      "cell_type": "code",
      "source": [
        "univariate_analysis_df = pd.DataFrame({'Chosen' : features.columns[features_kbest]})\n",
        "print(univariate_analysis_df)"
      ],
      "metadata": {
        "colab": {
          "base_uri": "https://localhost:8080/"
        },
        "id": "LvFwu5VMYvEZ",
        "outputId": "6e87ea2e-0def-413c-c33b-bf84ee9c5c9a"
      },
      "execution_count": null,
      "outputs": [
        {
          "output_type": "stream",
          "name": "stdout",
          "text": [
            "      Chosen\n",
            "0      Month\n",
            "1        Age\n",
            "2       Race\n",
            "3      Place\n",
            "4  Education\n"
          ]
        }
      ]
    },
    {
      "cell_type": "markdown",
      "source": [
        "## **Part 5b: Chi-Square Feature Selection**"
      ],
      "metadata": {
        "id": "D3j5I2bQY1hr"
      }
    },
    {
      "cell_type": "code",
      "source": [
        "#Chi-Square feature selection\n",
        "from sklearn.feature_selection import chi2\n",
        "from sklearn.feature_selection import SelectKBest\n",
        "\n",
        "X = df.drop('Intent',1)\n",
        "y = df['Intent']\n",
        "\n",
        "test = SelectKBest(score_func=chi2, k=5)\n",
        "fit = test.fit(X, y)"
      ],
      "metadata": {
        "id": "vG1L4SWRY2n_"
      },
      "execution_count": null,
      "outputs": []
    },
    {
      "cell_type": "code",
      "source": [
        "feature_score = pd.DataFrame()\n",
        "\n",
        "for i in range(X.shape[1]):\n",
        "    new = pd.DataFrame({'Features' : X.columns[i],\n",
        "                        'Score' : fit.scores_[i]}, index=[i])\n",
        "    \n",
        "    feature_score = pd.concat([feature_score, new])"
      ],
      "metadata": {
        "id": "_HKNGdROZBjw"
      },
      "execution_count": null,
      "outputs": []
    },
    {
      "cell_type": "code",
      "source": [
        "#The 5 attributes with the higest scores will be selected\n",
        "feature_score"
      ],
      "metadata": {
        "colab": {
          "base_uri": "https://localhost:8080/",
          "height": 300
        },
        "id": "MC42k7WeZEwv",
        "outputId": "390a2bd3-39a7-4f93-fb1b-6731d2fcc04d"
      },
      "execution_count": null,
      "outputs": [
        {
          "output_type": "execute_result",
          "data": {
            "text/plain": [
              "    Features         Score\n",
              "0       Year      0.009086\n",
              "1      Month    132.837583\n",
              "2     Police     33.129269\n",
              "3     Gender      9.641395\n",
              "4        Age   1447.643011\n",
              "5       Race   8128.155184\n",
              "6      Place  29548.551881\n",
              "7  Education    349.016536"
            ],
            "text/html": [
              "\n",
              "  <div id=\"df-f0361795-6d2c-4ed5-b312-8694c00d06e4\">\n",
              "    <div class=\"colab-df-container\">\n",
              "      <div>\n",
              "<style scoped>\n",
              "    .dataframe tbody tr th:only-of-type {\n",
              "        vertical-align: middle;\n",
              "    }\n",
              "\n",
              "    .dataframe tbody tr th {\n",
              "        vertical-align: top;\n",
              "    }\n",
              "\n",
              "    .dataframe thead th {\n",
              "        text-align: right;\n",
              "    }\n",
              "</style>\n",
              "<table border=\"1\" class=\"dataframe\">\n",
              "  <thead>\n",
              "    <tr style=\"text-align: right;\">\n",
              "      <th></th>\n",
              "      <th>Features</th>\n",
              "      <th>Score</th>\n",
              "    </tr>\n",
              "  </thead>\n",
              "  <tbody>\n",
              "    <tr>\n",
              "      <th>0</th>\n",
              "      <td>Year</td>\n",
              "      <td>0.009086</td>\n",
              "    </tr>\n",
              "    <tr>\n",
              "      <th>1</th>\n",
              "      <td>Month</td>\n",
              "      <td>132.837583</td>\n",
              "    </tr>\n",
              "    <tr>\n",
              "      <th>2</th>\n",
              "      <td>Police</td>\n",
              "      <td>33.129269</td>\n",
              "    </tr>\n",
              "    <tr>\n",
              "      <th>3</th>\n",
              "      <td>Gender</td>\n",
              "      <td>9.641395</td>\n",
              "    </tr>\n",
              "    <tr>\n",
              "      <th>4</th>\n",
              "      <td>Age</td>\n",
              "      <td>1447.643011</td>\n",
              "    </tr>\n",
              "    <tr>\n",
              "      <th>5</th>\n",
              "      <td>Race</td>\n",
              "      <td>8128.155184</td>\n",
              "    </tr>\n",
              "    <tr>\n",
              "      <th>6</th>\n",
              "      <td>Place</td>\n",
              "      <td>29548.551881</td>\n",
              "    </tr>\n",
              "    <tr>\n",
              "      <th>7</th>\n",
              "      <td>Education</td>\n",
              "      <td>349.016536</td>\n",
              "    </tr>\n",
              "  </tbody>\n",
              "</table>\n",
              "</div>\n",
              "      <button class=\"colab-df-convert\" onclick=\"convertToInteractive('df-f0361795-6d2c-4ed5-b312-8694c00d06e4')\"\n",
              "              title=\"Convert this dataframe to an interactive table.\"\n",
              "              style=\"display:none;\">\n",
              "        \n",
              "  <svg xmlns=\"http://www.w3.org/2000/svg\" height=\"24px\"viewBox=\"0 0 24 24\"\n",
              "       width=\"24px\">\n",
              "    <path d=\"M0 0h24v24H0V0z\" fill=\"none\"/>\n",
              "    <path d=\"M18.56 5.44l.94 2.06.94-2.06 2.06-.94-2.06-.94-.94-2.06-.94 2.06-2.06.94zm-11 1L8.5 8.5l.94-2.06 2.06-.94-2.06-.94L8.5 2.5l-.94 2.06-2.06.94zm10 10l.94 2.06.94-2.06 2.06-.94-2.06-.94-.94-2.06-.94 2.06-2.06.94z\"/><path d=\"M17.41 7.96l-1.37-1.37c-.4-.4-.92-.59-1.43-.59-.52 0-1.04.2-1.43.59L10.3 9.45l-7.72 7.72c-.78.78-.78 2.05 0 2.83L4 21.41c.39.39.9.59 1.41.59.51 0 1.02-.2 1.41-.59l7.78-7.78 2.81-2.81c.8-.78.8-2.07 0-2.86zM5.41 20L4 18.59l7.72-7.72 1.47 1.35L5.41 20z\"/>\n",
              "  </svg>\n",
              "      </button>\n",
              "      \n",
              "  <style>\n",
              "    .colab-df-container {\n",
              "      display:flex;\n",
              "      flex-wrap:wrap;\n",
              "      gap: 12px;\n",
              "    }\n",
              "\n",
              "    .colab-df-convert {\n",
              "      background-color: #E8F0FE;\n",
              "      border: none;\n",
              "      border-radius: 50%;\n",
              "      cursor: pointer;\n",
              "      display: none;\n",
              "      fill: #1967D2;\n",
              "      height: 32px;\n",
              "      padding: 0 0 0 0;\n",
              "      width: 32px;\n",
              "    }\n",
              "\n",
              "    .colab-df-convert:hover {\n",
              "      background-color: #E2EBFA;\n",
              "      box-shadow: 0px 1px 2px rgba(60, 64, 67, 0.3), 0px 1px 3px 1px rgba(60, 64, 67, 0.15);\n",
              "      fill: #174EA6;\n",
              "    }\n",
              "\n",
              "    [theme=dark] .colab-df-convert {\n",
              "      background-color: #3B4455;\n",
              "      fill: #D2E3FC;\n",
              "    }\n",
              "\n",
              "    [theme=dark] .colab-df-convert:hover {\n",
              "      background-color: #434B5C;\n",
              "      box-shadow: 0px 1px 3px 1px rgba(0, 0, 0, 0.15);\n",
              "      filter: drop-shadow(0px 1px 2px rgba(0, 0, 0, 0.3));\n",
              "      fill: #FFFFFF;\n",
              "    }\n",
              "  </style>\n",
              "\n",
              "      <script>\n",
              "        const buttonEl =\n",
              "          document.querySelector('#df-f0361795-6d2c-4ed5-b312-8694c00d06e4 button.colab-df-convert');\n",
              "        buttonEl.style.display =\n",
              "          google.colab.kernel.accessAllowed ? 'block' : 'none';\n",
              "\n",
              "        async function convertToInteractive(key) {\n",
              "          const element = document.querySelector('#df-f0361795-6d2c-4ed5-b312-8694c00d06e4');\n",
              "          const dataTable =\n",
              "            await google.colab.kernel.invokeFunction('convertToInteractive',\n",
              "                                                     [key], {});\n",
              "          if (!dataTable) return;\n",
              "\n",
              "          const docLinkHtml = 'Like what you see? Visit the ' +\n",
              "            '<a target=\"_blank\" href=https://colab.research.google.com/notebooks/data_table.ipynb>data table notebook</a>'\n",
              "            + ' to learn more about interactive tables.';\n",
              "          element.innerHTML = '';\n",
              "          dataTable['output_type'] = 'display_data';\n",
              "          await google.colab.output.renderOutput(dataTable, element);\n",
              "          const docLink = document.createElement('div');\n",
              "          docLink.innerHTML = docLinkHtml;\n",
              "          element.appendChild(docLink);\n",
              "        }\n",
              "      </script>\n",
              "    </div>\n",
              "  </div>\n",
              "  "
            ]
          },
          "metadata": {},
          "execution_count": 402
        }
      ]
    },
    {
      "cell_type": "markdown",
      "source": [
        "## **Part 6.1 - Logistic Regression Model Built From Original Data**\n",
        "We used all of our attributes in the logit model to serve as a baseline measurement of accurate prediction."
      ],
      "metadata": {
        "id": "ydplpj-naMCQ"
      }
    },
    {
      "cell_type": "code",
      "source": [
        "#Form model1 from all of the attributes in the original dataframe\n",
        "y, X = dmatrices('Intent ~ C(Year) + C(Month) + C(Police) + C(Gender) + Age + C(Race) + C(Place) + C(Education)', df, return_type=\"dataframe\")\n",
        "y = np.ravel(y)\n",
        "np.warnings.filterwarnings('ignore')\n",
        "model1 = LogisticRegression()\n",
        "model1 = model1.fit(X, y)\n",
        "model1.score(X, y) #Score of model1"
      ],
      "metadata": {
        "colab": {
          "base_uri": "https://localhost:8080/"
        },
        "id": "8eETSOi3aPMn",
        "outputId": "bdbcd0c3-c5a9-4440-8e53-b1deb5a627fd"
      },
      "execution_count": null,
      "outputs": [
        {
          "output_type": "execute_result",
          "data": {
            "text/plain": [
              "0.8369824718917706"
            ]
          },
          "metadata": {},
          "execution_count": 403
        }
      ]
    },
    {
      "cell_type": "code",
      "source": [
        "#Split data into test data and training data\n",
        "X_train, X_test, y_train, y_test = train_test_split(X, y, test_size=0.3, random_state=0)\n",
        "model1 = LogisticRegression()\n",
        "model1.fit(X_train, y_train)"
      ],
      "metadata": {
        "colab": {
          "base_uri": "https://localhost:8080/"
        },
        "id": "BX1PCSa0bCS1",
        "outputId": "184d0535-22a9-46e5-b20f-95645f3f7fc5"
      },
      "execution_count": null,
      "outputs": [
        {
          "output_type": "execute_result",
          "data": {
            "text/plain": [
              "LogisticRegression()"
            ]
          },
          "metadata": {},
          "execution_count": 404
        }
      ]
    },
    {
      "cell_type": "code",
      "source": [
        "#Use model to make predictions for survival\n",
        "predicted = model1.predict(X_test)\n",
        "probs = model1.predict_proba(X_test)\n",
        "dt = pd.DataFrame(probs)\n",
        "dt['predictions1'] = predicted\n",
        "\n",
        "filtered_dt = dt[dt['predictions1'] == 1]\n",
        "filtered_dt"
      ],
      "metadata": {
        "colab": {
          "base_uri": "https://localhost:8080/",
          "height": 424
        },
        "id": "o5n9S9aobHd0",
        "outputId": "e6e9736a-da0d-46c0-be1c-d7d7ea610a51"
      },
      "execution_count": null,
      "outputs": [
        {
          "output_type": "execute_result",
          "data": {
            "text/plain": [
              "              0         1  predictions1\n",
              "1      0.228998  0.771002           1.0\n",
              "2      0.193154  0.806846           1.0\n",
              "4      0.031828  0.968172           1.0\n",
              "5      0.150185  0.849815           1.0\n",
              "7      0.129177  0.870823           1.0\n",
              "...         ...       ...           ...\n",
              "29400  0.267977  0.732023           1.0\n",
              "29401  0.266361  0.733639           1.0\n",
              "29402  0.023496  0.976504           1.0\n",
              "29403  0.177574  0.822426           1.0\n",
              "29404  0.123119  0.876881           1.0\n",
              "\n",
              "[20097 rows x 3 columns]"
            ],
            "text/html": [
              "\n",
              "  <div id=\"df-f9e13634-053a-4c1c-9d9c-9d6955b75d57\">\n",
              "    <div class=\"colab-df-container\">\n",
              "      <div>\n",
              "<style scoped>\n",
              "    .dataframe tbody tr th:only-of-type {\n",
              "        vertical-align: middle;\n",
              "    }\n",
              "\n",
              "    .dataframe tbody tr th {\n",
              "        vertical-align: top;\n",
              "    }\n",
              "\n",
              "    .dataframe thead th {\n",
              "        text-align: right;\n",
              "    }\n",
              "</style>\n",
              "<table border=\"1\" class=\"dataframe\">\n",
              "  <thead>\n",
              "    <tr style=\"text-align: right;\">\n",
              "      <th></th>\n",
              "      <th>0</th>\n",
              "      <th>1</th>\n",
              "      <th>predictions1</th>\n",
              "    </tr>\n",
              "  </thead>\n",
              "  <tbody>\n",
              "    <tr>\n",
              "      <th>1</th>\n",
              "      <td>0.228998</td>\n",
              "      <td>0.771002</td>\n",
              "      <td>1.0</td>\n",
              "    </tr>\n",
              "    <tr>\n",
              "      <th>2</th>\n",
              "      <td>0.193154</td>\n",
              "      <td>0.806846</td>\n",
              "      <td>1.0</td>\n",
              "    </tr>\n",
              "    <tr>\n",
              "      <th>4</th>\n",
              "      <td>0.031828</td>\n",
              "      <td>0.968172</td>\n",
              "      <td>1.0</td>\n",
              "    </tr>\n",
              "    <tr>\n",
              "      <th>5</th>\n",
              "      <td>0.150185</td>\n",
              "      <td>0.849815</td>\n",
              "      <td>1.0</td>\n",
              "    </tr>\n",
              "    <tr>\n",
              "      <th>7</th>\n",
              "      <td>0.129177</td>\n",
              "      <td>0.870823</td>\n",
              "      <td>1.0</td>\n",
              "    </tr>\n",
              "    <tr>\n",
              "      <th>...</th>\n",
              "      <td>...</td>\n",
              "      <td>...</td>\n",
              "      <td>...</td>\n",
              "    </tr>\n",
              "    <tr>\n",
              "      <th>29400</th>\n",
              "      <td>0.267977</td>\n",
              "      <td>0.732023</td>\n",
              "      <td>1.0</td>\n",
              "    </tr>\n",
              "    <tr>\n",
              "      <th>29401</th>\n",
              "      <td>0.266361</td>\n",
              "      <td>0.733639</td>\n",
              "      <td>1.0</td>\n",
              "    </tr>\n",
              "    <tr>\n",
              "      <th>29402</th>\n",
              "      <td>0.023496</td>\n",
              "      <td>0.976504</td>\n",
              "      <td>1.0</td>\n",
              "    </tr>\n",
              "    <tr>\n",
              "      <th>29403</th>\n",
              "      <td>0.177574</td>\n",
              "      <td>0.822426</td>\n",
              "      <td>1.0</td>\n",
              "    </tr>\n",
              "    <tr>\n",
              "      <th>29404</th>\n",
              "      <td>0.123119</td>\n",
              "      <td>0.876881</td>\n",
              "      <td>1.0</td>\n",
              "    </tr>\n",
              "  </tbody>\n",
              "</table>\n",
              "<p>20097 rows × 3 columns</p>\n",
              "</div>\n",
              "      <button class=\"colab-df-convert\" onclick=\"convertToInteractive('df-f9e13634-053a-4c1c-9d9c-9d6955b75d57')\"\n",
              "              title=\"Convert this dataframe to an interactive table.\"\n",
              "              style=\"display:none;\">\n",
              "        \n",
              "  <svg xmlns=\"http://www.w3.org/2000/svg\" height=\"24px\"viewBox=\"0 0 24 24\"\n",
              "       width=\"24px\">\n",
              "    <path d=\"M0 0h24v24H0V0z\" fill=\"none\"/>\n",
              "    <path d=\"M18.56 5.44l.94 2.06.94-2.06 2.06-.94-2.06-.94-.94-2.06-.94 2.06-2.06.94zm-11 1L8.5 8.5l.94-2.06 2.06-.94-2.06-.94L8.5 2.5l-.94 2.06-2.06.94zm10 10l.94 2.06.94-2.06 2.06-.94-2.06-.94-.94-2.06-.94 2.06-2.06.94z\"/><path d=\"M17.41 7.96l-1.37-1.37c-.4-.4-.92-.59-1.43-.59-.52 0-1.04.2-1.43.59L10.3 9.45l-7.72 7.72c-.78.78-.78 2.05 0 2.83L4 21.41c.39.39.9.59 1.41.59.51 0 1.02-.2 1.41-.59l7.78-7.78 2.81-2.81c.8-.78.8-2.07 0-2.86zM5.41 20L4 18.59l7.72-7.72 1.47 1.35L5.41 20z\"/>\n",
              "  </svg>\n",
              "      </button>\n",
              "      \n",
              "  <style>\n",
              "    .colab-df-container {\n",
              "      display:flex;\n",
              "      flex-wrap:wrap;\n",
              "      gap: 12px;\n",
              "    }\n",
              "\n",
              "    .colab-df-convert {\n",
              "      background-color: #E8F0FE;\n",
              "      border: none;\n",
              "      border-radius: 50%;\n",
              "      cursor: pointer;\n",
              "      display: none;\n",
              "      fill: #1967D2;\n",
              "      height: 32px;\n",
              "      padding: 0 0 0 0;\n",
              "      width: 32px;\n",
              "    }\n",
              "\n",
              "    .colab-df-convert:hover {\n",
              "      background-color: #E2EBFA;\n",
              "      box-shadow: 0px 1px 2px rgba(60, 64, 67, 0.3), 0px 1px 3px 1px rgba(60, 64, 67, 0.15);\n",
              "      fill: #174EA6;\n",
              "    }\n",
              "\n",
              "    [theme=dark] .colab-df-convert {\n",
              "      background-color: #3B4455;\n",
              "      fill: #D2E3FC;\n",
              "    }\n",
              "\n",
              "    [theme=dark] .colab-df-convert:hover {\n",
              "      background-color: #434B5C;\n",
              "      box-shadow: 0px 1px 3px 1px rgba(0, 0, 0, 0.15);\n",
              "      filter: drop-shadow(0px 1px 2px rgba(0, 0, 0, 0.3));\n",
              "      fill: #FFFFFF;\n",
              "    }\n",
              "  </style>\n",
              "\n",
              "      <script>\n",
              "        const buttonEl =\n",
              "          document.querySelector('#df-f9e13634-053a-4c1c-9d9c-9d6955b75d57 button.colab-df-convert');\n",
              "        buttonEl.style.display =\n",
              "          google.colab.kernel.accessAllowed ? 'block' : 'none';\n",
              "\n",
              "        async function convertToInteractive(key) {\n",
              "          const element = document.querySelector('#df-f9e13634-053a-4c1c-9d9c-9d6955b75d57');\n",
              "          const dataTable =\n",
              "            await google.colab.kernel.invokeFunction('convertToInteractive',\n",
              "                                                     [key], {});\n",
              "          if (!dataTable) return;\n",
              "\n",
              "          const docLinkHtml = 'Like what you see? Visit the ' +\n",
              "            '<a target=\"_blank\" href=https://colab.research.google.com/notebooks/data_table.ipynb>data table notebook</a>'\n",
              "            + ' to learn more about interactive tables.';\n",
              "          element.innerHTML = '';\n",
              "          dataTable['output_type'] = 'display_data';\n",
              "          await google.colab.output.renderOutput(dataTable, element);\n",
              "          const docLink = document.createElement('div');\n",
              "          docLink.innerHTML = docLinkHtml;\n",
              "          element.appendChild(docLink);\n",
              "        }\n",
              "      </script>\n",
              "    </div>\n",
              "  </div>\n",
              "  "
            ]
          },
          "metadata": {},
          "execution_count": 405
        }
      ]
    },
    {
      "cell_type": "code",
      "source": [
        "#Generate evaluation metrics\n",
        "print(\"Accuracy:\",metrics.accuracy_score(y_test, predicted))\n",
        "print(\"Roc:\", metrics.roc_auc_score(y_test, probs[:, 1]))\n",
        "print(\"\\n\\nConfusion Matrix:\\n\\n\", metrics.confusion_matrix(y_test, predicted))\n",
        "print(\"\\n\\nClassification Report:\\n\\n\",metrics.classification_report(y_test, predicted))"
      ],
      "metadata": {
        "colab": {
          "base_uri": "https://localhost:8080/"
        },
        "id": "B35nNR9KbM_t",
        "outputId": "7f4b7734-7209-4c90-ce68-80ffad2cbd01"
      },
      "execution_count": null,
      "outputs": [
        {
          "output_type": "stream",
          "name": "stdout",
          "text": [
            "Accuracy: 0.8330896106104404\n",
            "Roc: 0.8769649803214535\n",
            "\n",
            "\n",
            "Confusion Matrix:\n",
            "\n",
            " [[ 7544  3144]\n",
            " [ 1764 16953]]\n",
            "\n",
            "\n",
            "Classification Report:\n",
            "\n",
            "               precision    recall  f1-score   support\n",
            "\n",
            "         0.0       0.81      0.71      0.75     10688\n",
            "         1.0       0.84      0.91      0.87     18717\n",
            "\n",
            "    accuracy                           0.83     29405\n",
            "   macro avg       0.83      0.81      0.81     29405\n",
            "weighted avg       0.83      0.83      0.83     29405\n",
            "\n"
          ]
        }
      ]
    },
    {
      "cell_type": "markdown",
      "source": [
        "## **Part 6.2 - Logistic Regression Model Built From Selected Features**\n",
        "Both K-Best and the Chi Square test selected the same 5 attributes. We will now see if feeding those 5 attributes into a logistic regress will yield better results."
      ],
      "metadata": {
        "id": "qKfhHZBfbcrm"
      }
    },
    {
      "cell_type": "code",
      "source": [
        "#Form model2 from all of the attributes in the original dataframe\n",
        "y, X = dmatrices('Intent ~ C(Month) +  Age + C(Race) + C(Place) + C(Education)', df, return_type=\"dataframe\")\n",
        "y = np.ravel(y)\n",
        "np.warnings.filterwarnings('ignore')\n",
        "model2 = LogisticRegression()\n",
        "model2 = model2.fit(X, y)\n",
        "model2.score(X, y) #Score of model2"
      ],
      "metadata": {
        "colab": {
          "base_uri": "https://localhost:8080/"
        },
        "id": "zoyoMRfAbwHb",
        "outputId": "1b313c0e-2405-404d-a6bd-391718e58615"
      },
      "execution_count": null,
      "outputs": [
        {
          "output_type": "execute_result",
          "data": {
            "text/plain": [
              "0.8353602546574979"
            ]
          },
          "metadata": {},
          "execution_count": 407
        }
      ]
    },
    {
      "cell_type": "code",
      "source": [
        "#Split data into test data and training data\n",
        "X_train, X_test, y_train, y_test = train_test_split(X, y, test_size=0.3, random_state=0)\n",
        "model2 = LogisticRegression()\n",
        "model2.fit(X_train, y_train)"
      ],
      "metadata": {
        "colab": {
          "base_uri": "https://localhost:8080/"
        },
        "id": "6q5dh8C2cHlD",
        "outputId": "58211fa4-2ceb-4356-f533-2919a81ba3e3"
      },
      "execution_count": null,
      "outputs": [
        {
          "output_type": "execute_result",
          "data": {
            "text/plain": [
              "LogisticRegression()"
            ]
          },
          "metadata": {},
          "execution_count": 408
        }
      ]
    },
    {
      "cell_type": "code",
      "source": [
        "#Use model to make predictions for survival\n",
        "predicted = model2.predict(X_test)\n",
        "probs = model2.predict_proba(X_test)\n",
        "dt = pd.DataFrame(probs)\n",
        "dt['predictions2'] = predicted\n",
        "\n",
        "filtered_dt = dt[dt['predictions2'] == 1]\n",
        "filtered_dt"
      ],
      "metadata": {
        "colab": {
          "base_uri": "https://localhost:8080/",
          "height": 424
        },
        "id": "EyhXvgTYcRWi",
        "outputId": "21c8bd1d-9094-46f5-beaa-f46d29f3bd55"
      },
      "execution_count": null,
      "outputs": [
        {
          "output_type": "execute_result",
          "data": {
            "text/plain": [
              "              0         1  predictions2\n",
              "1      0.125544  0.874456           1.0\n",
              "2      0.219125  0.780875           1.0\n",
              "4      0.041987  0.958013           1.0\n",
              "5      0.172970  0.827030           1.0\n",
              "6      0.329814  0.670186           1.0\n",
              "...         ...       ...           ...\n",
              "29400  0.153229  0.846771           1.0\n",
              "29401  0.300790  0.699210           1.0\n",
              "29402  0.030951  0.969049           1.0\n",
              "29403  0.203488  0.796512           1.0\n",
              "29404  0.070260  0.929740           1.0\n",
              "\n",
              "[20215 rows x 3 columns]"
            ],
            "text/html": [
              "\n",
              "  <div id=\"df-3defd42c-54a7-45c3-a727-e02086485bb1\">\n",
              "    <div class=\"colab-df-container\">\n",
              "      <div>\n",
              "<style scoped>\n",
              "    .dataframe tbody tr th:only-of-type {\n",
              "        vertical-align: middle;\n",
              "    }\n",
              "\n",
              "    .dataframe tbody tr th {\n",
              "        vertical-align: top;\n",
              "    }\n",
              "\n",
              "    .dataframe thead th {\n",
              "        text-align: right;\n",
              "    }\n",
              "</style>\n",
              "<table border=\"1\" class=\"dataframe\">\n",
              "  <thead>\n",
              "    <tr style=\"text-align: right;\">\n",
              "      <th></th>\n",
              "      <th>0</th>\n",
              "      <th>1</th>\n",
              "      <th>predictions2</th>\n",
              "    </tr>\n",
              "  </thead>\n",
              "  <tbody>\n",
              "    <tr>\n",
              "      <th>1</th>\n",
              "      <td>0.125544</td>\n",
              "      <td>0.874456</td>\n",
              "      <td>1.0</td>\n",
              "    </tr>\n",
              "    <tr>\n",
              "      <th>2</th>\n",
              "      <td>0.219125</td>\n",
              "      <td>0.780875</td>\n",
              "      <td>1.0</td>\n",
              "    </tr>\n",
              "    <tr>\n",
              "      <th>4</th>\n",
              "      <td>0.041987</td>\n",
              "      <td>0.958013</td>\n",
              "      <td>1.0</td>\n",
              "    </tr>\n",
              "    <tr>\n",
              "      <th>5</th>\n",
              "      <td>0.172970</td>\n",
              "      <td>0.827030</td>\n",
              "      <td>1.0</td>\n",
              "    </tr>\n",
              "    <tr>\n",
              "      <th>6</th>\n",
              "      <td>0.329814</td>\n",
              "      <td>0.670186</td>\n",
              "      <td>1.0</td>\n",
              "    </tr>\n",
              "    <tr>\n",
              "      <th>...</th>\n",
              "      <td>...</td>\n",
              "      <td>...</td>\n",
              "      <td>...</td>\n",
              "    </tr>\n",
              "    <tr>\n",
              "      <th>29400</th>\n",
              "      <td>0.153229</td>\n",
              "      <td>0.846771</td>\n",
              "      <td>1.0</td>\n",
              "    </tr>\n",
              "    <tr>\n",
              "      <th>29401</th>\n",
              "      <td>0.300790</td>\n",
              "      <td>0.699210</td>\n",
              "      <td>1.0</td>\n",
              "    </tr>\n",
              "    <tr>\n",
              "      <th>29402</th>\n",
              "      <td>0.030951</td>\n",
              "      <td>0.969049</td>\n",
              "      <td>1.0</td>\n",
              "    </tr>\n",
              "    <tr>\n",
              "      <th>29403</th>\n",
              "      <td>0.203488</td>\n",
              "      <td>0.796512</td>\n",
              "      <td>1.0</td>\n",
              "    </tr>\n",
              "    <tr>\n",
              "      <th>29404</th>\n",
              "      <td>0.070260</td>\n",
              "      <td>0.929740</td>\n",
              "      <td>1.0</td>\n",
              "    </tr>\n",
              "  </tbody>\n",
              "</table>\n",
              "<p>20215 rows × 3 columns</p>\n",
              "</div>\n",
              "      <button class=\"colab-df-convert\" onclick=\"convertToInteractive('df-3defd42c-54a7-45c3-a727-e02086485bb1')\"\n",
              "              title=\"Convert this dataframe to an interactive table.\"\n",
              "              style=\"display:none;\">\n",
              "        \n",
              "  <svg xmlns=\"http://www.w3.org/2000/svg\" height=\"24px\"viewBox=\"0 0 24 24\"\n",
              "       width=\"24px\">\n",
              "    <path d=\"M0 0h24v24H0V0z\" fill=\"none\"/>\n",
              "    <path d=\"M18.56 5.44l.94 2.06.94-2.06 2.06-.94-2.06-.94-.94-2.06-.94 2.06-2.06.94zm-11 1L8.5 8.5l.94-2.06 2.06-.94-2.06-.94L8.5 2.5l-.94 2.06-2.06.94zm10 10l.94 2.06.94-2.06 2.06-.94-2.06-.94-.94-2.06-.94 2.06-2.06.94z\"/><path d=\"M17.41 7.96l-1.37-1.37c-.4-.4-.92-.59-1.43-.59-.52 0-1.04.2-1.43.59L10.3 9.45l-7.72 7.72c-.78.78-.78 2.05 0 2.83L4 21.41c.39.39.9.59 1.41.59.51 0 1.02-.2 1.41-.59l7.78-7.78 2.81-2.81c.8-.78.8-2.07 0-2.86zM5.41 20L4 18.59l7.72-7.72 1.47 1.35L5.41 20z\"/>\n",
              "  </svg>\n",
              "      </button>\n",
              "      \n",
              "  <style>\n",
              "    .colab-df-container {\n",
              "      display:flex;\n",
              "      flex-wrap:wrap;\n",
              "      gap: 12px;\n",
              "    }\n",
              "\n",
              "    .colab-df-convert {\n",
              "      background-color: #E8F0FE;\n",
              "      border: none;\n",
              "      border-radius: 50%;\n",
              "      cursor: pointer;\n",
              "      display: none;\n",
              "      fill: #1967D2;\n",
              "      height: 32px;\n",
              "      padding: 0 0 0 0;\n",
              "      width: 32px;\n",
              "    }\n",
              "\n",
              "    .colab-df-convert:hover {\n",
              "      background-color: #E2EBFA;\n",
              "      box-shadow: 0px 1px 2px rgba(60, 64, 67, 0.3), 0px 1px 3px 1px rgba(60, 64, 67, 0.15);\n",
              "      fill: #174EA6;\n",
              "    }\n",
              "\n",
              "    [theme=dark] .colab-df-convert {\n",
              "      background-color: #3B4455;\n",
              "      fill: #D2E3FC;\n",
              "    }\n",
              "\n",
              "    [theme=dark] .colab-df-convert:hover {\n",
              "      background-color: #434B5C;\n",
              "      box-shadow: 0px 1px 3px 1px rgba(0, 0, 0, 0.15);\n",
              "      filter: drop-shadow(0px 1px 2px rgba(0, 0, 0, 0.3));\n",
              "      fill: #FFFFFF;\n",
              "    }\n",
              "  </style>\n",
              "\n",
              "      <script>\n",
              "        const buttonEl =\n",
              "          document.querySelector('#df-3defd42c-54a7-45c3-a727-e02086485bb1 button.colab-df-convert');\n",
              "        buttonEl.style.display =\n",
              "          google.colab.kernel.accessAllowed ? 'block' : 'none';\n",
              "\n",
              "        async function convertToInteractive(key) {\n",
              "          const element = document.querySelector('#df-3defd42c-54a7-45c3-a727-e02086485bb1');\n",
              "          const dataTable =\n",
              "            await google.colab.kernel.invokeFunction('convertToInteractive',\n",
              "                                                     [key], {});\n",
              "          if (!dataTable) return;\n",
              "\n",
              "          const docLinkHtml = 'Like what you see? Visit the ' +\n",
              "            '<a target=\"_blank\" href=https://colab.research.google.com/notebooks/data_table.ipynb>data table notebook</a>'\n",
              "            + ' to learn more about interactive tables.';\n",
              "          element.innerHTML = '';\n",
              "          dataTable['output_type'] = 'display_data';\n",
              "          await google.colab.output.renderOutput(dataTable, element);\n",
              "          const docLink = document.createElement('div');\n",
              "          docLink.innerHTML = docLinkHtml;\n",
              "          element.appendChild(docLink);\n",
              "        }\n",
              "      </script>\n",
              "    </div>\n",
              "  </div>\n",
              "  "
            ]
          },
          "metadata": {},
          "execution_count": 409
        }
      ]
    },
    {
      "cell_type": "code",
      "source": [
        "#Generate evaluation metrics\n",
        "print(\"Accuracy:\",metrics.accuracy_score(y_test, predicted))\n",
        "print(\"Roc:\", metrics.roc_auc_score(y_test, probs[:, 1]))\n",
        "print(\"\\n\\nConfusion Matrix:\\n\\n\", metrics.confusion_matrix(y_test, predicted))\n",
        "print(\"\\n\\nClassification Report:\\n\\n\",metrics.classification_report(y_test, predicted))"
      ],
      "metadata": {
        "colab": {
          "base_uri": "https://localhost:8080/"
        },
        "id": "w422o102cZ2J",
        "outputId": "a4c69097-f331-4b23-e848-1687a897ee07"
      },
      "execution_count": null,
      "outputs": [
        {
          "output_type": "stream",
          "name": "stdout",
          "text": [
            "Accuracy: 0.8317292977384798\n",
            "Roc: 0.8702529950717255\n",
            "\n",
            "\n",
            "Confusion Matrix:\n",
            "\n",
            " [[ 7465  3223]\n",
            " [ 1725 16992]]\n",
            "\n",
            "\n",
            "Classification Report:\n",
            "\n",
            "               precision    recall  f1-score   support\n",
            "\n",
            "         0.0       0.81      0.70      0.75     10688\n",
            "         1.0       0.84      0.91      0.87     18717\n",
            "\n",
            "    accuracy                           0.83     29405\n",
            "   macro avg       0.83      0.80      0.81     29405\n",
            "weighted avg       0.83      0.83      0.83     29405\n",
            "\n"
          ]
        }
      ]
    },
    {
      "cell_type": "markdown",
      "source": [
        "## **Part 6.3 - Decision Tree Regression Model**\n",
        "It is interesting to point out that this model placed a heavier numerical weight on a similar set of attributes to the ones selected by K-Best and the Chi Square test. Both forms of feature selection picked Month, Age, Race, Place amd Education. The Tree Regressor placed heavy weights on Race, Age, Month, Place and Year. Education followed as a near 6th place."
      ],
      "metadata": {
        "id": "iMud_BBncnRj"
      }
    },
    {
      "cell_type": "code",
      "source": [
        "from sklearn.tree import DecisionTreeRegressor\n",
        "\n",
        "decision_tree = DecisionTreeRegressor(max_depth=None)\n",
        "decision_tree.fit(features, target)\n",
        "\n",
        "predictors = features.columns\n",
        "\n",
        "coef = pd.Series(decision_tree.feature_importances_, predictors).sort_values()\n",
        "print(coef)"
      ],
      "metadata": {
        "colab": {
          "base_uri": "https://localhost:8080/"
        },
        "id": "vsKynI5icmFL",
        "outputId": "87d06574-9430-46d7-d239-723ea9447a77"
      },
      "execution_count": null,
      "outputs": [
        {
          "output_type": "stream",
          "name": "stdout",
          "text": [
            "Police       0.000439\n",
            "Gender       0.017716\n",
            "Education    0.035047\n",
            "Year         0.057805\n",
            "Place        0.062858\n",
            "Month        0.131711\n",
            "Age          0.201703\n",
            "Race         0.492721\n",
            "dtype: float64\n"
          ]
        }
      ]
    },
    {
      "cell_type": "code",
      "source": [
        "from sklearn.linear_model import LinearRegression\n",
        "from sklearn.model_selection import train_test_split\n",
        "from sklearn.metrics import r2_score\n",
        "\n",
        "x_train, x_test, y_train, y_test = train_test_split(features, target, test_size=.3)\n",
        "    \n",
        "model = LinearRegression().fit(x_train, y_train)\n",
        "y_pred = model.predict(x_test)\n",
        "    \n",
        "print(\"Test_score : \", r2_score(y_test, y_pred))"
      ],
      "metadata": {
        "colab": {
          "base_uri": "https://localhost:8080/"
        },
        "id": "JFdaaEjydwqA",
        "outputId": "67381544-113d-4817-df82-4629eab6a562"
      },
      "execution_count": null,
      "outputs": [
        {
          "output_type": "stream",
          "name": "stdout",
          "text": [
            "Test_score :  0.3896943956452734\n"
          ]
        }
      ]
    },
    {
      "cell_type": "code",
      "source": [
        "#Generate evaluation metrics\n",
        "print(\"Accuracy:\",metrics.accuracy_score(y_test, predicted))\n",
        "print(\"Roc:\", metrics.roc_auc_score(y_test, probs[:, 1]))\n",
        "print(\"\\n\\nConfusion Matrix:\\n\\n\", metrics.confusion_matrix(y_test, predicted))\n",
        "print(\"\\n\\nClassification Report:\\n\\n\",metrics.classification_report(y_test, predicted))"
      ],
      "metadata": {
        "colab": {
          "base_uri": "https://localhost:8080/"
        },
        "id": "lgJvxYT8d2eo",
        "outputId": "0a63a772-d544-4c2c-aa76-7ef207b38534"
      },
      "execution_count": null,
      "outputs": [
        {
          "output_type": "stream",
          "name": "stdout",
          "text": [
            "Accuracy: 0.5556538003740861\n",
            "Roc: 0.5054498822095147\n",
            "\n",
            "\n",
            "Confusion Matrix:\n",
            "\n",
            " [[ 3412  7288]\n",
            " [ 5778 12927]]\n",
            "\n",
            "\n",
            "Classification Report:\n",
            "\n",
            "               precision    recall  f1-score   support\n",
            "\n",
            "           0       0.37      0.32      0.34     10700\n",
            "           1       0.64      0.69      0.66     18705\n",
            "\n",
            "    accuracy                           0.56     29405\n",
            "   macro avg       0.51      0.50      0.50     29405\n",
            "weighted avg       0.54      0.56      0.55     29405\n",
            "\n"
          ]
        }
      ]
    },
    {
      "cell_type": "markdown",
      "source": [
        "## **Part 6.4 - Random Forest Model Built From Original Data**\n",
        "Random forest is a flexible, easy-to-use machine learning algorithm that produces, even without hyper-parameter tuning, a great result most of the time. It is also one of the most-used algorithms, due to its simplicity and diversity (it can be used for both classification and regression tasks)."
      ],
      "metadata": {
        "id": "3NlE8Te8gs-r"
      }
    },
    {
      "cell_type": "code",
      "source": [
        "from sklearn.ensemble import RandomForestClassifier\n",
        "\n",
        "X = df[['Year', 'Month','Police','Gender', 'Age', 'Race','Place','Education']]\n",
        "y = df['Intent']\n",
        "X_train,X_test,y_train,y_test = train_test_split(X,y,test_size=0.3,random_state=0)\n",
        "clf = RandomForestClassifier(n_estimators=100)\n",
        "clf.fit(X_train,y_train)\n",
        "y_pred=clf.predict(X_test)\n",
        "\n",
        "print(\"Test Score:\", metrics.r2_score(y_test, y_pred))\n",
        "plt.show()"
      ],
      "metadata": {
        "colab": {
          "base_uri": "https://localhost:8080/"
        },
        "id": "W2WJAdwigyKF",
        "outputId": "708a6700-ee86-499c-fa1e-a58fda030c01"
      },
      "execution_count": null,
      "outputs": [
        {
          "output_type": "stream",
          "name": "stdout",
          "text": [
            "Test Score: 0.11982244438835088\n"
          ]
        }
      ]
    },
    {
      "cell_type": "code",
      "source": [
        "print('Accuracy: ',metrics.accuracy_score(y_test, y_pred))\n",
        "print('ROC: ',roc_auc_score(y_test, y_pred))"
      ],
      "metadata": {
        "colab": {
          "base_uri": "https://localhost:8080/"
        },
        "id": "KzgNAQzOHy8N",
        "outputId": "5e1adce9-81a8-4ce3-b209-3f2889985f55"
      },
      "execution_count": null,
      "outputs": [
        {
          "output_type": "stream",
          "name": "stdout",
          "text": [
            "Accuracy:  0.7963611630675055\n",
            "ROC:  0.7716876962935804\n"
          ]
        }
      ]
    },
    {
      "cell_type": "code",
      "source": [
        "#Generate performance metrics\n",
        "from sklearn.metrics import accuracy_score, confusion_matrix, classification_report\n",
        "confusion_matrix = pd.crosstab(y_test, y_pred, rownames=['Actual'], colnames=['Predicted'])\n",
        "print(confusion_matrix)\n",
        "print(\"\\n\", classification_report(y_test, y_pred))"
      ],
      "metadata": {
        "colab": {
          "base_uri": "https://localhost:8080/"
        },
        "id": "bAxvES6GoVti",
        "outputId": "8d7890f0-c36f-45f7-f461-d78214da07b8"
      },
      "execution_count": null,
      "outputs": [
        {
          "output_type": "stream",
          "name": "stdout",
          "text": [
            "Predicted     0      1\n",
            "Actual                \n",
            "0          7282   3406\n",
            "1          2582  16135\n",
            "\n",
            "               precision    recall  f1-score   support\n",
            "\n",
            "           0       0.74      0.68      0.71     10688\n",
            "           1       0.83      0.86      0.84     18717\n",
            "\n",
            "    accuracy                           0.80     29405\n",
            "   macro avg       0.78      0.77      0.78     29405\n",
            "weighted avg       0.79      0.80      0.79     29405\n",
            "\n"
          ]
        }
      ]
    },
    {
      "cell_type": "markdown",
      "source": [
        "## **Part 6.5 - Random Forest Model Built From Selected Features**\n",
        "Just as we did with the logit model, we will now build a random forest with only the attributes highlighted by feature selection."
      ],
      "metadata": {
        "id": "QYiqEUlggpy0"
      }
    },
    {
      "cell_type": "code",
      "source": [
        "X = df[['Month', 'Age', 'Race','Place','Education']]\n",
        "y = df['Intent']\n",
        "X_train,X_test,y_train,y_test = train_test_split(X,y,test_size=0.3,random_state=0)\n",
        "clf = RandomForestClassifier(n_estimators=100)\n",
        "clf.fit(X_train,y_train)\n",
        "y_pred=clf.predict(X_test)\n",
        "\n",
        "print(\"Test Score:\", metrics.r2_score(y_test, y_pred))\n",
        "plt.show()"
      ],
      "metadata": {
        "colab": {
          "base_uri": "https://localhost:8080/"
        },
        "id": "WME61IPioD4Q",
        "outputId": "88025b18-12e1-48bb-8bd0-692a55ebd5f2"
      },
      "execution_count": null,
      "outputs": [
        {
          "output_type": "stream",
          "name": "stdout",
          "text": [
            "Test Score: 0.18052941340431794\n"
          ]
        }
      ]
    },
    {
      "cell_type": "code",
      "source": [
        "print('Accuracy: ',metrics.accuracy_score(y_test, y_pred))\n",
        "print('ROC: ',roc_auc_score(y_test, y_pred))"
      ],
      "metadata": {
        "colab": {
          "base_uri": "https://localhost:8080/"
        },
        "id": "CaRf0QY5IAi7",
        "outputId": "5cabaa53-0aa5-4803-bb5f-348947efc1eb"
      },
      "execution_count": null,
      "outputs": [
        {
          "output_type": "stream",
          "name": "stdout",
          "text": [
            "Accuracy:  0.8104063934704983\n",
            "ROC:  0.7802721812345816\n"
          ]
        }
      ]
    },
    {
      "cell_type": "code",
      "source": [
        "#Generate performance metrics\n",
        "from sklearn.metrics import accuracy_score, confusion_matrix, classification_report\n",
        "confusion_matrix = pd.crosstab(y_test, y_pred, rownames=['Actual'], colnames=['Predicted'])\n",
        "print(confusion_matrix)\n",
        "print(\"\\n\", classification_report(y_test, y_pred))"
      ],
      "metadata": {
        "colab": {
          "base_uri": "https://localhost:8080/"
        },
        "id": "lPvbP1loqexz",
        "outputId": "3fdb4520-4105-46ca-9be2-e4c6842663e3"
      },
      "execution_count": null,
      "outputs": [
        {
          "output_type": "stream",
          "name": "stdout",
          "text": [
            "Predicted     0      1\n",
            "Actual                \n",
            "0          7160   3528\n",
            "1          2047  16670\n",
            "\n",
            "               precision    recall  f1-score   support\n",
            "\n",
            "           0       0.78      0.67      0.72     10688\n",
            "           1       0.83      0.89      0.86     18717\n",
            "\n",
            "    accuracy                           0.81     29405\n",
            "   macro avg       0.80      0.78      0.79     29405\n",
            "weighted avg       0.81      0.81      0.81     29405\n",
            "\n"
          ]
        }
      ]
    },
    {
      "cell_type": "markdown",
      "source": [
        "## **Part 6.6 - Bagging and Pasting Ensemble Model**\n",
        "Both bagging and pasting trains predictors on a different random subset of the training data. At the end, when all the predictors are trained, the ensemble can predict new data by simply combining the prediction of all the predictors the same as the hard voting classifier(As mode in statistics). Most of the time ensemble has the same bias but less variance than an individual predictor trained on the original training data."
      ],
      "metadata": {
        "id": "mSGr6ehw3KYx"
      }
    },
    {
      "cell_type": "code",
      "source": [
        "from sklearn.ensemble import BaggingClassifier\n",
        "from sklearn.tree import DecisionTreeClassifier\n",
        "from sklearn.metrics import accuracy_score\n",
        "\n",
        "bagging_clf = BaggingClassifier(\n",
        "    DecisionTreeClassifier(), n_estimators=250,\n",
        "    max_samples=100, bootstrap=True, random_state=101)"
      ],
      "metadata": {
        "id": "hRnKOeGC3PfI"
      },
      "execution_count": null,
      "outputs": []
    },
    {
      "cell_type": "code",
      "source": [
        "bagging_clf.fit(X_train, y_train)\n",
        "\n",
        "y_pred = bagging_clf.predict(X_test)\n",
        "\n",
        "print(\"Test Score:\", metrics.r2_score(y_test, y_pred))\n",
        "print('Accuracy: ',metrics.accuracy_score(y_test, y_pred))\n",
        "print('ROC: ',roc_auc_score(y_test, y_pred))\n",
        "plt.show()"
      ],
      "metadata": {
        "id": "McepB673EnWt",
        "outputId": "8eef03ad-de19-4c4b-d566-ae5fc2bd1cfc",
        "colab": {
          "base_uri": "https://localhost:8080/"
        }
      },
      "execution_count": null,
      "outputs": [
        {
          "output_type": "stream",
          "name": "stdout",
          "text": [
            "Test Score: 0.25828725023106525\n",
            "Accuracy:  0.8283965312021765\n",
            "ROC:  0.7998220130903444\n"
          ]
        }
      ]
    },
    {
      "cell_type": "code",
      "source": [
        "print(\"\\n\", classification_report(y_test, y_pred))"
      ],
      "metadata": {
        "colab": {
          "base_uri": "https://localhost:8080/"
        },
        "id": "HS8n7c4kGFaY",
        "outputId": "df66be2e-a057-47a6-8c27-32a42a1db630"
      },
      "execution_count": null,
      "outputs": [
        {
          "output_type": "stream",
          "name": "stdout",
          "text": [
            "\n",
            "               precision    recall  f1-score   support\n",
            "\n",
            "           0       0.81      0.70      0.75     10688\n",
            "           1       0.84      0.90      0.87     18717\n",
            "\n",
            "    accuracy                           0.83     29405\n",
            "   macro avg       0.82      0.80      0.81     29405\n",
            "weighted avg       0.83      0.83      0.83     29405\n",
            "\n"
          ]
        }
      ]
    },
    {
      "cell_type": "markdown",
      "source": [
        "## **Part 7 - Conclusion**\n",
        "The model that outperformed the others by a slight margin was model number 1, the Logistic Regression model that used all of the attributes. This model has an accuracy of 0.8330896106104404 and Roc of 0.8769649803214535. Model 2 was a close 2nd place. Each of the models performed accurately in some regard. What this report focused on was the idea that the most accurate model would be the one that utulizes the attributes that are the most important indetermining an individual's likelyhood to commit suicide by shooting themselves. This was not the case.\n",
        "\n",
        "Month, Age, Race, Place and Education attributes were selected by both of the feature selection methods. When these five attributed were fed into a logistic regression model, the performance metrics went down slightly when compared to the model that used all the attributes. The opposite is true for the Random Forest models. When the five selected attributes were used to create a Random Forest, the performance metrics slightly increased when compared to using all of the attributes. We expected to see a notable increase in model performance if we used the 5 selected attributes. The idea here was to see an increase in performance by cutting out data that doesn't contibute unique data. The results we received were marginal and conflicting. It is unknown why this happened.\n",
        "\n",
        "One other observation is that the decision tree placed heavy emphasis on Year, Place, Month, Age and Race. This list has four of the five attributes that were selected by K-Best and the Chi Square test. This is somewhat notable. Although the theory did not pan out as we expected, some knowledge can still be gleamed from the data and selected features. Clearly age and race play a major factor in gun violence since certain demographics have a higher degree of exposure and indulgence in gun use, whether it is for recreational or criminal use. Timing is also important. According to the data, people tend to be more isolated during the non holiday months. This might lead individuals to be more violent.\n",
        "\n",
        "The place in which the crime takes place matters as well. Most people are shot in their homes. This aligns nicely with the fact that most shootings and murders are commited by a friend or family member. As for education, it would be easy to say that people of with a Highschool diploma are more likely to be involved in gun violence but it is more likely that this observation is simply a consequence of how education is distributed among the American population. The one attribute that defied expectation is Gender. We expected this to show up since males were more likely to be the victim of a gun related death unfortunately. It is unclear as to why this is the case. More data and further investigation is needed to draw a more concrete conclusion."
      ],
      "metadata": {
        "id": "bzpHy0PiP7Gx"
      }
    },
    {
      "cell_type": "markdown",
      "source": [
        "### References\n",
        "\n",
        "https://fivethirtyeight.com/features/gun-deaths/\n",
        "\n",
        "https://github.com/fivethirtyeight\n",
        "\n",
        "https://www.pewresearch.org/fact-tank/2022/02/03/what-the-data-says-about-gun-deaths-in-the-u-s/\n",
        "\n",
        "https://datatofish.com/random-forest-python/\n",
        "\n",
        "https://www.analyticsvidhya.com/blog/2021/12/a-detailed-guide-to-ensemble-learning/#h2_3"
      ],
      "metadata": {
        "id": "M8CsCYL8zAw0"
      }
    }
  ]
}